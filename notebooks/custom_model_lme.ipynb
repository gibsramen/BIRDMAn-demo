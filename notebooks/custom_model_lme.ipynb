{
 "cells": [
  {
   "cell_type": "markdown",
   "id": "atomic-signature",
   "metadata": {},
   "source": [
    "# Custom Modelling with BIRDMAn - Longitudinal LME\n",
    "\n",
    "One of the primary goals of BIRDMAn is to allow users to develop and implement their own statistical models based on their experimental design/question. For example, if you have paired or longitudinal data, you would likely want to specify random intercepts for individual subjects.\n",
    "\n",
    "Here, we will do a fairly in-depth walkthrough of how you can use BIRDMAn to analyze longitudinal data. Note that for this workshop we will be using a custom Stan file, but in the future this file will be included as a default option."
   ]
  },
  {
   "cell_type": "markdown",
   "id": "inclusive-addition",
   "metadata": {},
   "source": [
    "## Data description\n",
    "\n",
    "We will be using data from the study \"Linking the effects of helminth infection, diet and the gut microbiota with human whole-blood signatures (repeated measurements)\" (Qiita ID: 11913). This study looks at the effect of de-worming on the gut microbiome. Importantly, they collected pre and post-deworming stool samples on several individuals.\n",
    "\n",
    "For our purposes, we would like to consider a linear mixed effects model (LME) where de-worming timepoint is a fixed effect and subject ID is a random effect. We will first process and explore the raw data."
   ]
  },
  {
   "cell_type": "code",
   "execution_count": 1,
   "id": "cleared-grounds",
   "metadata": {},
   "outputs": [],
   "source": [
    "%matplotlib inline\n",
    "\n",
    "import biom\n",
    "import numpy as np\n",
    "import pandas as pd\n",
    "import birdman"
   ]
  },
  {
   "cell_type": "code",
   "execution_count": 2,
   "id": "optical-reservoir",
   "metadata": {},
   "outputs": [
    {
     "data": {
      "text/plain": [
       "2948 x 56 <class 'biom.table.Table'> with 8935 nonzero entries (5% dense)"
      ]
     },
     "execution_count": 2,
     "metadata": {},
     "output_type": "execute_result"
    }
   ],
   "source": [
    "raw_tbl = biom.load_table(\"../data/helminth/94270_reference-hit.biom\")\n",
    "raw_tbl"
   ]
  },
  {
   "cell_type": "code",
   "execution_count": 3,
   "id": "theoretical-fighter",
   "metadata": {},
   "outputs": [
    {
     "data": {
      "text/html": [
       "<div>\n",
       "<style scoped>\n",
       "    .dataframe tbody tr th:only-of-type {\n",
       "        vertical-align: middle;\n",
       "    }\n",
       "\n",
       "    .dataframe tbody tr th {\n",
       "        vertical-align: top;\n",
       "    }\n",
       "\n",
       "    .dataframe thead th {\n",
       "        text-align: right;\n",
       "    }\n",
       "</style>\n",
       "<table border=\"1\" class=\"dataframe\">\n",
       "  <thead>\n",
       "    <tr style=\"text-align: right;\">\n",
       "      <th></th>\n",
       "      <th>age</th>\n",
       "      <th>ascaris</th>\n",
       "      <th>collection_device</th>\n",
       "      <th>collection_method</th>\n",
       "      <th>collection_timestamp</th>\n",
       "      <th>date_of_collection</th>\n",
       "      <th>description</th>\n",
       "      <th>dna_extracted</th>\n",
       "      <th>elevation</th>\n",
       "      <th>elevation_units</th>\n",
       "      <th>...</th>\n",
       "      <th>sample_well</th>\n",
       "      <th>scientific_name</th>\n",
       "      <th>sex</th>\n",
       "      <th>site</th>\n",
       "      <th>taxon_id</th>\n",
       "      <th>time_point</th>\n",
       "      <th>title</th>\n",
       "      <th>trichuris</th>\n",
       "      <th>tube_id</th>\n",
       "      <th>villageaf</th>\n",
       "    </tr>\n",
       "    <tr>\n",
       "      <th>sample_name</th>\n",
       "      <th></th>\n",
       "      <th></th>\n",
       "      <th></th>\n",
       "      <th></th>\n",
       "      <th></th>\n",
       "      <th></th>\n",
       "      <th></th>\n",
       "      <th></th>\n",
       "      <th></th>\n",
       "      <th></th>\n",
       "      <th></th>\n",
       "      <th></th>\n",
       "      <th></th>\n",
       "      <th></th>\n",
       "      <th></th>\n",
       "      <th></th>\n",
       "      <th></th>\n",
       "      <th></th>\n",
       "      <th></th>\n",
       "      <th></th>\n",
       "      <th></th>\n",
       "    </tr>\n",
       "  </thead>\n",
       "  <tbody>\n",
       "    <tr>\n",
       "      <th>11913.101</th>\n",
       "      <td>15.0</td>\n",
       "      <td>0.0</td>\n",
       "      <td>Plastic container</td>\n",
       "      <td>By study subject</td>\n",
       "      <td>2013-05-08</td>\n",
       "      <td>May_13</td>\n",
       "      <td>Selangor, Rural Indigenous, Stool samples</td>\n",
       "      <td>True</td>\n",
       "      <td>not collected</td>\n",
       "      <td>meters</td>\n",
       "      <td>...</td>\n",
       "      <td>p03.C11</td>\n",
       "      <td>human gut metagenome</td>\n",
       "      <td>female</td>\n",
       "      <td>HumanGut</td>\n",
       "      <td>408170</td>\n",
       "      <td>1</td>\n",
       "      <td>Linking the effects of helminth infection, die...</td>\n",
       "      <td>1.0</td>\n",
       "      <td>101</td>\n",
       "      <td>BF</td>\n",
       "    </tr>\n",
       "    <tr>\n",
       "      <th>11913.101AF</th>\n",
       "      <td>15.0</td>\n",
       "      <td>0.0</td>\n",
       "      <td>Plastic container</td>\n",
       "      <td>By study subject</td>\n",
       "      <td>2013-06-02</td>\n",
       "      <td>Jun_13</td>\n",
       "      <td>Selangor, Rural Indigenous, Stool samples</td>\n",
       "      <td>True</td>\n",
       "      <td>not collected</td>\n",
       "      <td>meters</td>\n",
       "      <td>...</td>\n",
       "      <td>p01.E7</td>\n",
       "      <td>human gut metagenome</td>\n",
       "      <td>female</td>\n",
       "      <td>HumanGut</td>\n",
       "      <td>408170</td>\n",
       "      <td>1</td>\n",
       "      <td>Linking the effects of helminth infection, die...</td>\n",
       "      <td>1.0</td>\n",
       "      <td>101AF</td>\n",
       "      <td>AF</td>\n",
       "    </tr>\n",
       "    <tr>\n",
       "      <th>11913.102</th>\n",
       "      <td>50.0</td>\n",
       "      <td>0.0</td>\n",
       "      <td>Plastic container</td>\n",
       "      <td>By study subject</td>\n",
       "      <td>2013-05-08</td>\n",
       "      <td>May_13</td>\n",
       "      <td>Selangor, Rural Indigenous, Stool samples</td>\n",
       "      <td>True</td>\n",
       "      <td>not collected</td>\n",
       "      <td>meters</td>\n",
       "      <td>...</td>\n",
       "      <td>p03.C12</td>\n",
       "      <td>human gut metagenome</td>\n",
       "      <td>female</td>\n",
       "      <td>HumanGut</td>\n",
       "      <td>408170</td>\n",
       "      <td>1</td>\n",
       "      <td>Linking the effects of helminth infection, die...</td>\n",
       "      <td>1.0</td>\n",
       "      <td>102</td>\n",
       "      <td>BF</td>\n",
       "    </tr>\n",
       "    <tr>\n",
       "      <th>11913.102AF</th>\n",
       "      <td>50.0</td>\n",
       "      <td>0.0</td>\n",
       "      <td>Plastic container</td>\n",
       "      <td>By study subject</td>\n",
       "      <td>2013-06-02</td>\n",
       "      <td>Jun_13</td>\n",
       "      <td>Selangor, Rural Indigenous, Stool samples</td>\n",
       "      <td>True</td>\n",
       "      <td>not collected</td>\n",
       "      <td>meters</td>\n",
       "      <td>...</td>\n",
       "      <td>p01.E8</td>\n",
       "      <td>human gut metagenome</td>\n",
       "      <td>female</td>\n",
       "      <td>HumanGut</td>\n",
       "      <td>408170</td>\n",
       "      <td>2</td>\n",
       "      <td>Linking the effects of helminth infection, die...</td>\n",
       "      <td>1.0</td>\n",
       "      <td>102AF</td>\n",
       "      <td>AF</td>\n",
       "    </tr>\n",
       "    <tr>\n",
       "      <th>11913.103AF</th>\n",
       "      <td>NaN</td>\n",
       "      <td>NaN</td>\n",
       "      <td>Plastic container</td>\n",
       "      <td>By study subject</td>\n",
       "      <td>2013-06-02</td>\n",
       "      <td>NaN</td>\n",
       "      <td>Selangor, Rural Indigenous, Stool samples</td>\n",
       "      <td>True</td>\n",
       "      <td>not collected</td>\n",
       "      <td>meters</td>\n",
       "      <td>...</td>\n",
       "      <td>NaN</td>\n",
       "      <td>human gut metagenome</td>\n",
       "      <td>female</td>\n",
       "      <td>NaN</td>\n",
       "      <td>408170</td>\n",
       "      <td>2</td>\n",
       "      <td>Linking the effects of helminth infection, die...</td>\n",
       "      <td>NaN</td>\n",
       "      <td>103AF</td>\n",
       "      <td>NaN</td>\n",
       "    </tr>\n",
       "  </tbody>\n",
       "</table>\n",
       "<p>5 rows × 65 columns</p>\n",
       "</div>"
      ],
      "text/plain": [
       "              age  ascaris  collection_device collection_method  \\\n",
       "sample_name                                                       \n",
       "11913.101    15.0      0.0  Plastic container  By study subject   \n",
       "11913.101AF  15.0      0.0  Plastic container  By study subject   \n",
       "11913.102    50.0      0.0  Plastic container  By study subject   \n",
       "11913.102AF  50.0      0.0  Plastic container  By study subject   \n",
       "11913.103AF   NaN      NaN  Plastic container  By study subject   \n",
       "\n",
       "            collection_timestamp date_of_collection  \\\n",
       "sample_name                                           \n",
       "11913.101             2013-05-08             May_13   \n",
       "11913.101AF           2013-06-02             Jun_13   \n",
       "11913.102             2013-05-08             May_13   \n",
       "11913.102AF           2013-06-02             Jun_13   \n",
       "11913.103AF           2013-06-02                NaN   \n",
       "\n",
       "                                           description  dna_extracted  \\\n",
       "sample_name                                                             \n",
       "11913.101    Selangor, Rural Indigenous, Stool samples           True   \n",
       "11913.101AF  Selangor, Rural Indigenous, Stool samples           True   \n",
       "11913.102    Selangor, Rural Indigenous, Stool samples           True   \n",
       "11913.102AF  Selangor, Rural Indigenous, Stool samples           True   \n",
       "11913.103AF  Selangor, Rural Indigenous, Stool samples           True   \n",
       "\n",
       "                 elevation elevation_units  ... sample_well  \\\n",
       "sample_name                                 ...               \n",
       "11913.101    not collected          meters  ...     p03.C11   \n",
       "11913.101AF  not collected          meters  ...      p01.E7   \n",
       "11913.102    not collected          meters  ...     p03.C12   \n",
       "11913.102AF  not collected          meters  ...      p01.E8   \n",
       "11913.103AF  not collected          meters  ...         NaN   \n",
       "\n",
       "                  scientific_name     sex      site taxon_id time_point  \\\n",
       "sample_name                                                               \n",
       "11913.101    human gut metagenome  female  HumanGut   408170          1   \n",
       "11913.101AF  human gut metagenome  female  HumanGut   408170          1   \n",
       "11913.102    human gut metagenome  female  HumanGut   408170          1   \n",
       "11913.102AF  human gut metagenome  female  HumanGut   408170          2   \n",
       "11913.103AF  human gut metagenome  female       NaN   408170          2   \n",
       "\n",
       "                                                         title trichuris  \\\n",
       "sample_name                                                                \n",
       "11913.101    Linking the effects of helminth infection, die...       1.0   \n",
       "11913.101AF  Linking the effects of helminth infection, die...       1.0   \n",
       "11913.102    Linking the effects of helminth infection, die...       1.0   \n",
       "11913.102AF  Linking the effects of helminth infection, die...       1.0   \n",
       "11913.103AF  Linking the effects of helminth infection, die...       NaN   \n",
       "\n",
       "             tube_id villageaf  \n",
       "sample_name                     \n",
       "11913.101        101        BF  \n",
       "11913.101AF    101AF        AF  \n",
       "11913.102        102        BF  \n",
       "11913.102AF    102AF        AF  \n",
       "11913.103AF    103AF       NaN  \n",
       "\n",
       "[5 rows x 65 columns]"
      ]
     },
     "execution_count": 3,
     "metadata": {},
     "output_type": "execute_result"
    }
   ],
   "source": [
    "metadata = pd.read_csv(\"../data/helminth/11913_20191016-112545.txt\", sep=\"\\t\", index_col=0)\n",
    "metadata.head()"
   ]
  },
  {
   "cell_type": "markdown",
   "id": "preceding-label",
   "metadata": {},
   "source": [
    "First, we want to determine which subjects have paired samples (taken at `time_point` 1 and 2)."
   ]
  },
  {
   "cell_type": "code",
   "execution_count": 4,
   "id": "controlling-estate",
   "metadata": {},
   "outputs": [
    {
     "data": {
      "text/plain": [
       "array([  101,   102,   103,  1097,   119,  1248,  1259,  1287,   135,\n",
       "        1372,  1383,   145, 15104,  1533,  1612,   166,  1719,  1758,\n",
       "         181,  1875,  1889,  1892, 19100,  1998,  1999, 20109,  2093,\n",
       "         218,   220,   221,   351,    37,   442,   445,   463,   511,\n",
       "        5112,  5113,    52,   634,   762,   780,  8107,    88,   930,\n",
       "         941,   953,    96,   969,    98,   995])"
      ]
     },
     "execution_count": 4,
     "metadata": {},
     "output_type": "execute_result"
    }
   ],
   "source": [
    "metadata[\"host_subject_id\"].unique()"
   ]
  },
  {
   "cell_type": "code",
   "execution_count": 5,
   "id": "cooperative-locator",
   "metadata": {},
   "outputs": [
    {
     "data": {
      "text/plain": [
       "Int64Index([   37,    52,    96,   102,   119,   135,   145,   166,   181,\n",
       "              218,   220,   221,   351,   445,   463,   511,   780,   930,\n",
       "              941,   953,  1097,  1248,  1259,  1383,  1533,  1612,  1719,\n",
       "             1875,  1998,  8107, 19100, 20109],\n",
       "           dtype='int64', name='host_subject_id')"
      ]
     },
     "execution_count": 5,
     "metadata": {},
     "output_type": "execute_result"
    }
   ],
   "source": [
    "subj_is_paired = metadata.groupby(\"host_subject_id\").apply(lambda x: (x[\"time_point\"].values == [1, 2]).all())\n",
    "paired_subjs = subj_is_paired[subj_is_paired].index\n",
    "paired_subjs"
   ]
  },
  {
   "cell_type": "code",
   "execution_count": 6,
   "id": "wired-edgar",
   "metadata": {},
   "outputs": [],
   "source": [
    "paired_samps = metadata[metadata[\"host_subject_id\"].isin(paired_subjs)].index"
   ]
  },
  {
   "cell_type": "markdown",
   "id": "norwegian-toyota",
   "metadata": {},
   "source": [
    "For this example we will consider only post/pre-deworm status."
   ]
  },
  {
   "cell_type": "code",
   "execution_count": 7,
   "id": "impressive-davis",
   "metadata": {},
   "outputs": [],
   "source": [
    "cols_to_keep = [\"time_point\", \"host_subject_id\"]\n",
    "metadata_model = metadata.loc[paired_samps, cols_to_keep].dropna()"
   ]
  },
  {
   "cell_type": "markdown",
   "id": "dominican-times",
   "metadata": {},
   "source": [
    "Additionally, we are going to change the encoding of `time_point` to be more explicit. We are also going to prefix each subject ID with \"S\" so that they are read as strings instead of integers."
   ]
  },
  {
   "cell_type": "code",
   "execution_count": 8,
   "id": "variable-coupon",
   "metadata": {},
   "outputs": [],
   "source": [
    "metadata_model[\"time_point\"] = metadata_model[\"time_point\"].map({1: \"pre-deworm\", 2: \"post-deworm\"})\n",
    "metadata_model[\"host_subject_id\"] = \"S\" + metadata[\"host_subject_id\"].astype(str)"
   ]
  },
  {
   "cell_type": "code",
   "execution_count": 9,
   "id": "three-improvement",
   "metadata": {},
   "outputs": [
    {
     "data": {
      "text/html": [
       "<div>\n",
       "<style scoped>\n",
       "    .dataframe tbody tr th:only-of-type {\n",
       "        vertical-align: middle;\n",
       "    }\n",
       "\n",
       "    .dataframe tbody tr th {\n",
       "        vertical-align: top;\n",
       "    }\n",
       "\n",
       "    .dataframe thead th {\n",
       "        text-align: right;\n",
       "    }\n",
       "</style>\n",
       "<table border=\"1\" class=\"dataframe\">\n",
       "  <thead>\n",
       "    <tr style=\"text-align: right;\">\n",
       "      <th></th>\n",
       "      <th>time_point</th>\n",
       "      <th>host_subject_id</th>\n",
       "    </tr>\n",
       "    <tr>\n",
       "      <th>sample_name</th>\n",
       "      <th></th>\n",
       "      <th></th>\n",
       "    </tr>\n",
       "  </thead>\n",
       "  <tbody>\n",
       "    <tr>\n",
       "      <th>11913.102</th>\n",
       "      <td>pre-deworm</td>\n",
       "      <td>S102</td>\n",
       "    </tr>\n",
       "    <tr>\n",
       "      <th>11913.102AF</th>\n",
       "      <td>post-deworm</td>\n",
       "      <td>S102</td>\n",
       "    </tr>\n",
       "    <tr>\n",
       "      <th>11913.1097</th>\n",
       "      <td>pre-deworm</td>\n",
       "      <td>S1097</td>\n",
       "    </tr>\n",
       "    <tr>\n",
       "      <th>11913.1097AF</th>\n",
       "      <td>post-deworm</td>\n",
       "      <td>S1097</td>\n",
       "    </tr>\n",
       "    <tr>\n",
       "      <th>11913.119</th>\n",
       "      <td>pre-deworm</td>\n",
       "      <td>S119</td>\n",
       "    </tr>\n",
       "  </tbody>\n",
       "</table>\n",
       "</div>"
      ],
      "text/plain": [
       "               time_point host_subject_id\n",
       "sample_name                              \n",
       "11913.102      pre-deworm            S102\n",
       "11913.102AF   post-deworm            S102\n",
       "11913.1097     pre-deworm           S1097\n",
       "11913.1097AF  post-deworm           S1097\n",
       "11913.119      pre-deworm            S119"
      ]
     },
     "execution_count": 9,
     "metadata": {},
     "output_type": "execute_result"
    }
   ],
   "source": [
    "metadata_model.head()"
   ]
  },
  {
   "cell_type": "markdown",
   "id": "civilian-lightweight",
   "metadata": {},
   "source": [
    "## Filtering the feature table\n",
    "\n",
    "We want to filter the original BIOM table to include only the samples we've specified. We are also going to reduce the number of microbes in the table to a more manageable number for this demonstration."
   ]
  },
  {
   "cell_type": "code",
   "execution_count": 10,
   "id": "stupid-breath",
   "metadata": {},
   "outputs": [
    {
     "data": {
      "text/html": [
       "<div>\n",
       "<style scoped>\n",
       "    .dataframe tbody tr th:only-of-type {\n",
       "        vertical-align: middle;\n",
       "    }\n",
       "\n",
       "    .dataframe tbody tr th {\n",
       "        vertical-align: top;\n",
       "    }\n",
       "\n",
       "    .dataframe thead th {\n",
       "        text-align: right;\n",
       "    }\n",
       "</style>\n",
       "<table border=\"1\" class=\"dataframe\">\n",
       "  <thead>\n",
       "    <tr style=\"text-align: right;\">\n",
       "      <th></th>\n",
       "      <th>11913.20109AF</th>\n",
       "      <th>11913.1383AF</th>\n",
       "      <th>11913.1097</th>\n",
       "      <th>11913.101AF</th>\n",
       "      <th>11913.634AF</th>\n",
       "    </tr>\n",
       "  </thead>\n",
       "  <tbody>\n",
       "    <tr>\n",
       "      <th>TACGGAGGGTGCAAGCGTTAATCGGAATAACTGGGCGTAAAGGGCATGCAGGCGGTTCATCAAGTAGGATGTGAAATCCCCGGGCTCAAC</th>\n",
       "      <td>995.0</td>\n",
       "      <td>4355.0</td>\n",
       "      <td>1811.0</td>\n",
       "      <td>28.0</td>\n",
       "      <td>3229.0</td>\n",
       "    </tr>\n",
       "    <tr>\n",
       "      <th>TACGGAAGGTCCGGGCGTTATCCGGATTTATTGGGTTTAAAGGGAGCGTAGGCCGGAGATTAAGCGTGTTGTGAAATGTAGACGCTCAAC</th>\n",
       "      <td>917.0</td>\n",
       "      <td>3345.0</td>\n",
       "      <td>516.0</td>\n",
       "      <td>827.0</td>\n",
       "      <td>5260.0</td>\n",
       "    </tr>\n",
       "    <tr>\n",
       "      <th>TACGGAAGGTCCGGGCGTTATCCGGATTTATTGGGTTTAAAGGGAGCGTAGGCCGGAGATTAAGCGTGTTGTGAAATGTAGATGCTCAAC</th>\n",
       "      <td>737.0</td>\n",
       "      <td>1761.0</td>\n",
       "      <td>273.0</td>\n",
       "      <td>1298.0</td>\n",
       "      <td>5845.0</td>\n",
       "    </tr>\n",
       "    <tr>\n",
       "      <th>AACGTAGGTCACAAGCGTTGTCCGGAATTACTGGGTGTAAAGGGAGCGCAGGCGGGAAGACAAGTTGGAAGTGAAATCCATGGGCTCAAC</th>\n",
       "      <td>204.0</td>\n",
       "      <td>545.0</td>\n",
       "      <td>71.0</td>\n",
       "      <td>305.0</td>\n",
       "      <td>918.0</td>\n",
       "    </tr>\n",
       "    <tr>\n",
       "      <th>TACGTATGGTGCAAGCGTTATCCGGATTTACTGGGTGTAAAGGGAGCGCAGGCGGTGCGGCAAGTCTGATGTGAAAGCCCGGGGCTCAAC</th>\n",
       "      <td>122.0</td>\n",
       "      <td>79.0</td>\n",
       "      <td>573.0</td>\n",
       "      <td>321.0</td>\n",
       "      <td>246.0</td>\n",
       "    </tr>\n",
       "  </tbody>\n",
       "</table>\n",
       "</div>"
      ],
      "text/plain": [
       "                                                    11913.20109AF  \\\n",
       "TACGGAGGGTGCAAGCGTTAATCGGAATAACTGGGCGTAAAGGGCAT...          995.0   \n",
       "TACGGAAGGTCCGGGCGTTATCCGGATTTATTGGGTTTAAAGGGAGC...          917.0   \n",
       "TACGGAAGGTCCGGGCGTTATCCGGATTTATTGGGTTTAAAGGGAGC...          737.0   \n",
       "AACGTAGGTCACAAGCGTTGTCCGGAATTACTGGGTGTAAAGGGAGC...          204.0   \n",
       "TACGTATGGTGCAAGCGTTATCCGGATTTACTGGGTGTAAAGGGAGC...          122.0   \n",
       "\n",
       "                                                    11913.1383AF  11913.1097  \\\n",
       "TACGGAGGGTGCAAGCGTTAATCGGAATAACTGGGCGTAAAGGGCAT...        4355.0      1811.0   \n",
       "TACGGAAGGTCCGGGCGTTATCCGGATTTATTGGGTTTAAAGGGAGC...        3345.0       516.0   \n",
       "TACGGAAGGTCCGGGCGTTATCCGGATTTATTGGGTTTAAAGGGAGC...        1761.0       273.0   \n",
       "AACGTAGGTCACAAGCGTTGTCCGGAATTACTGGGTGTAAAGGGAGC...         545.0        71.0   \n",
       "TACGTATGGTGCAAGCGTTATCCGGATTTACTGGGTGTAAAGGGAGC...          79.0       573.0   \n",
       "\n",
       "                                                    11913.101AF  11913.634AF  \n",
       "TACGGAGGGTGCAAGCGTTAATCGGAATAACTGGGCGTAAAGGGCAT...         28.0       3229.0  \n",
       "TACGGAAGGTCCGGGCGTTATCCGGATTTATTGGGTTTAAAGGGAGC...        827.0       5260.0  \n",
       "TACGGAAGGTCCGGGCGTTATCCGGATTTATTGGGTTTAAAGGGAGC...       1298.0       5845.0  \n",
       "AACGTAGGTCACAAGCGTTGTCCGGAATTACTGGGTGTAAAGGGAGC...        305.0        918.0  \n",
       "TACGTATGGTGCAAGCGTTATCCGGATTTACTGGGTGTAAAGGGAGC...        321.0        246.0  "
      ]
     },
     "execution_count": 10,
     "metadata": {},
     "output_type": "execute_result"
    }
   ],
   "source": [
    "raw_tbl_df = raw_tbl.to_dataframe()\n",
    "raw_tbl_df.iloc[:5, :5]"
   ]
  },
  {
   "cell_type": "code",
   "execution_count": 11,
   "id": "italic-discount",
   "metadata": {},
   "outputs": [
    {
     "data": {
      "text/plain": [
       "46"
      ]
     },
     "execution_count": 11,
     "metadata": {},
     "output_type": "execute_result"
    }
   ],
   "source": [
    "samps_to_keep = sorted(list(set(raw_tbl_df.columns).intersection(metadata_model.index)))\n",
    "len(samps_to_keep)"
   ]
  },
  {
   "cell_type": "markdown",
   "id": "greatest-artwork",
   "metadata": {},
   "source": [
    "To filter out features, we calculate the prevalence of each feature and keep only features that appear in at least 20 samples out of 46."
   ]
  },
  {
   "cell_type": "code",
   "execution_count": 12,
   "id": "prescription-staff",
   "metadata": {},
   "outputs": [
    {
     "data": {
      "text/plain": [
       "(88, 46)"
      ]
     },
     "execution_count": 12,
     "metadata": {},
     "output_type": "execute_result"
    }
   ],
   "source": [
    "filt_tbl_df = raw_tbl_df.loc[:, samps_to_keep]\n",
    "prev = filt_tbl_df.clip(upper=1).sum(axis=1)\n",
    "filt_tbl_df = filt_tbl_df.loc[prev[prev >= 20].index, :]\n",
    "filt_tbl_df.shape"
   ]
  },
  {
   "cell_type": "markdown",
   "id": "sunset-merit",
   "metadata": {},
   "source": [
    "Now we save this DataFrame as a BIOM so we can pass it into BIRDMAn."
   ]
  },
  {
   "cell_type": "code",
   "execution_count": 13,
   "id": "starting-graph",
   "metadata": {},
   "outputs": [
    {
     "data": {
      "text/plain": [
       "88 x 46 <class 'biom.table.Table'> with 2730 nonzero entries (67% dense)"
      ]
     },
     "execution_count": 13,
     "metadata": {},
     "output_type": "execute_result"
    }
   ],
   "source": [
    "filt_tbl = biom.table.Table(\n",
    "    filt_tbl_df.values,\n",
    "    sample_ids=filt_tbl_df.columns,\n",
    "    observation_ids=filt_tbl_df.index\n",
    ")\n",
    "filt_tbl"
   ]
  },
  {
   "cell_type": "markdown",
   "id": "cathedral-bookmark",
   "metadata": {},
   "source": [
    "## LME Model\n",
    "\n",
    "We have provided a Stan file with the code required to run this model. First, we'll print the contents to the screen."
   ]
  },
  {
   "cell_type": "code",
   "execution_count": 14,
   "id": "promotional-masters",
   "metadata": {},
   "outputs": [
    {
     "name": "stdout",
     "output_type": "stream",
     "text": [
      "data {\n",
      "  int<lower=0> N;                     // number of sample IDs\n",
      "  int<lower=0> S;                     // number of groups (subjects)\n",
      "  int<lower=0> D;                     // number of dimensions\n",
      "  int<lower=0> p;                     // number of covariates\n",
      "  real depth[N];                      // sequencing depths of microbes\n",
      "  matrix[N, p] x;                     // covariate matrix\n",
      "  int<lower=1, upper=S> subj_ids[N];  // mapping of samples to subject IDs\n",
      "  int y[N, D];                        // observed microbe abundances\n",
      "  real<lower=0> B_p;                  // stdev for covariate Beta Normal prior\n",
      "  real<lower=0> phi_s;                // scale for dispersion Cauchy prior\n",
      "  real<lower=0> u_p;                  // stdev for subject intercept Normal prior\n",
      "}\n",
      "\n",
      "parameters {\n",
      "  matrix[p, D-1] beta;\n",
      "  vector<lower=0>[D] reciprocal_phi;\n",
      "  vector[S] subj_int;\n",
      "}\n",
      "\n",
      "transformed parameters {\n",
      "  matrix[N, D-1] lam;\n",
      "  matrix[N, D] lam_clr;\n",
      "  vector<lower=0>[D] phi;\n",
      "\n",
      "  for (i in 1:D){\n",
      "    phi[i] = 1. / reciprocal_phi[i];\n",
      "  }\n",
      "\n",
      "  lam = x*beta;  // N x D-1\n",
      "  for (n in 1:N){\n",
      "    lam[n] += subj_int[subj_ids[n]];\n",
      "  }\n",
      "  lam_clr = append_col(to_vector(rep_array(0, N)), lam);\n",
      "}\n",
      "\n",
      "model {\n",
      "  // setting priors ...\n",
      "  for (i in 1:D){\n",
      "    reciprocal_phi[i] ~ cauchy(0., phi_s);\n",
      "  }\n",
      "  for (i in 1:D-1){\n",
      "    for (j in 1:p){\n",
      "      beta[j, i] ~ normal(0., B_p); // uninformed prior\n",
      "    }\n",
      "  }\n",
      "  for (i in 1:S){\n",
      "    subj_int[i] ~ normal(0., u_p);\n",
      "  }\n",
      "\n",
      "  // generating counts\n",
      "  for (n in 1:N){\n",
      "    for (i in 1:D){\n",
      "      target += neg_binomial_2_log_lpmf(y[n, i] | depth[n] + lam_clr[n, i], phi[i]);\n",
      "    }\n",
      "  }\n",
      "}\n",
      "\n",
      "generated quantities {\n",
      "  matrix[N, D] y_predict;\n",
      "  matrix[N, D] log_lik;\n",
      "\n",
      "  for (n in 1:N){\n",
      "    for (i in 1:D){\n",
      "      y_predict[n, i] = neg_binomial_2_log_rng(depth[n] + lam_clr[n, i], phi[i]);\n",
      "      log_lik[n, i] = neg_binomial_2_log_lpmf(y[n, i] | depth[n] + lam_clr[n, i], phi[i]);\n",
      "    }\n",
      "  }\n",
      "}\n",
      "\n"
     ]
    }
   ],
   "source": [
    "with open(\"../models/negative_binomial_re.stan\", \"r\") as f:\n",
    "    print(f.read())"
   ]
  },
  {
   "cell_type": "markdown",
   "id": "eastern-signature",
   "metadata": {},
   "source": [
    "### Description of the model\n",
    "\n",
    "The basic Negative Binomial model is as follows:\n",
    "\n",
    "$$ y_{ij} \\sim \\mathrm{NB}(\\mu_{ij},\\phi_j) $$\n",
    "\n",
    "$$ \\mu_{ij} = n_i p_{ij} $$\n",
    "\n",
    "where $i$ is an arbitrary sample, $j$ is an arbitrary microbe, $n$ is the sampling depth, and $\\phi$ is the dispersion parameter. We see that $\\mu_{ij}$, the mean abundance of microbe $j$ in sample $i$, is the total sampling depth ($n_i$) multiplied by the probability of microbe $j$ in sample $i$.\n",
    "\n",
    "For the default NB model, the probability for each microbe in a given sample is a function of only the fixed-effects. $x_i$ is the covariate matrix of sample $i$ and $\\beta$ is the covariate coefficient vector (e.g. $[\\beta_{\\rm{intercept}}, \\beta_{\\rm{time}}, ...]^T$).\n",
    "\n",
    "$$ \\mathrm{alr}^{-1} (p_i) = x_i\\beta $$\n",
    "\n",
    "To include a random effect, we add a random intercept for each subject ID.\n",
    "\n",
    "$$ \\mathrm{alr}^{-1} (p_i) = x_i\\beta + z_i u $$\n",
    "\n",
    "where $z_i$ is the mapping of sample $i$ to subject and $u$ is the subject coefficient vector (e.g. $[u_{\\textrm{S1}}, u_{\\textrm{S2}}, ...]$)"
   ]
  },
  {
   "cell_type": "code",
   "execution_count": 15,
   "id": "hispanic-governor",
   "metadata": {},
   "outputs": [],
   "source": [
    "nb_lme = birdman.Model(  # note that we are instantiating a base Model object\n",
    "    table=filt_tbl,\n",
    "    formula=\"C(time_point, Treatment('pre-deworm'))\",\n",
    "    metadata=metadata_model.loc[samps_to_keep],\n",
    "    model_path=\"../models/negative_binomial_re.stan\",\n",
    "    num_iter=100,\n",
    "    chains=4,\n",
    "    seed=42\n",
    ")"
   ]
  },
  {
   "cell_type": "markdown",
   "id": "moved-fossil",
   "metadata": {},
   "source": [
    "We then want to update our data dictionary with the new parameters.\n",
    "\n",
    "By default BIRDMAn computes and includes:\n",
    "\n",
    "* `y`: table data\n",
    "* `x`: covariate design matrix\n",
    "* `depth`: log sampling depths of samples\n",
    "* `N`: number of samples\n",
    "* `D`: number of features\n",
    "* `p`: number of covariates (including Intercept)"
   ]
  },
  {
   "cell_type": "markdown",
   "id": "filled-signature",
   "metadata": {},
   "source": [
    "We want to add the necessary variables to be passed to Stan:\n",
    "\n",
    "* `S`: total number of groups (subjects)\n",
    "* `B_p`: mapping of samples to subject\n",
    "* `phi_s`: stdev prior for normally distributed covariate-feature coefficients\n",
    "* `u_p`: scale prior for half-Cauchy distributed overdispersion coefficients\n",
    "* `subj_ids`: stdev prior for normally distributed subject intercept shifts"
   ]
  },
  {
   "cell_type": "markdown",
   "id": "dynamic-seeker",
   "metadata": {},
   "source": [
    "We want to provide `subj_ids` with a mapping of which sample corresponds to which subject. Stan does not understand strings so we encode each unique subject as an integer (starting at 1 because Stan 1-indexes arrays)."
   ]
  },
  {
   "cell_type": "code",
   "execution_count": 16,
   "id": "detailed-bride",
   "metadata": {},
   "outputs": [
    {
     "data": {
      "text/plain": [
       "sample_name\n",
       "11913.102       1\n",
       "11913.102AF     1\n",
       "11913.1097      2\n",
       "11913.1097AF    2\n",
       "11913.1248      3\n",
       "11913.1248AF    3\n",
       "11913.1259      4\n",
       "11913.1259AF    4\n",
       "11913.1383      5\n",
       "11913.1383AF    5\n",
       "dtype: int8"
      ]
     },
     "execution_count": 16,
     "metadata": {},
     "output_type": "execute_result"
    }
   ],
   "source": [
    "group_var_series = metadata_model.loc[samps_to_keep][\"host_subject_id\"]\n",
    "samp_subj_map = group_var_series.astype(\"category\").cat.codes + 1\n",
    "\n",
    "samp_subj_map.head(10)"
   ]
  },
  {
   "cell_type": "code",
   "execution_count": 17,
   "id": "sticky-label",
   "metadata": {},
   "outputs": [
    {
     "data": {
      "text/plain": [
       "array(['S102', 'S1097', 'S1248', 'S1259', 'S1383', 'S1533', 'S1612',\n",
       "       'S1719', 'S19100', 'S1998', 'S20109', 'S218', 'S220', 'S221',\n",
       "       'S351', 'S37', 'S445', 'S463', 'S511', 'S780', 'S930', 'S953',\n",
       "       'S96'], dtype=object)"
      ]
     },
     "execution_count": 17,
     "metadata": {},
     "output_type": "execute_result"
    }
   ],
   "source": [
    "groups = np.sort(group_var_series.unique())\n",
    "groups"
   ]
  },
  {
   "cell_type": "code",
   "execution_count": 18,
   "id": "faced-freeware",
   "metadata": {},
   "outputs": [],
   "source": [
    "param_dict = {\n",
    "    \"S\": len(groups),\n",
    "    \"subj_ids\": samp_subj_map.values,\n",
    "    \"B_p\": 3.0,\n",
    "    \"phi_s\": 3.0,\n",
    "    \"u_p\": 1.0\n",
    "}\n",
    "\n",
    "nb_lme.add_parameters(param_dict)"
   ]
  },
  {
   "cell_type": "markdown",
   "id": "chicken-depth",
   "metadata": {},
   "source": [
    "We can see the input data with `nb_lme.dat`. This is the dictionary that is passed into Stan. Note how each of the entries in this dictionary correspond to an entry in the `data` block of the Stan code."
   ]
  },
  {
   "cell_type": "code",
   "execution_count": 19,
   "id": "herbal-employee",
   "metadata": {},
   "outputs": [
    {
     "data": {
      "text/plain": [
       "{'y': matrix([[  42, 2354, 1642, ...,    0,    0,    0],\n",
       "         [  17, 3112, 1832, ...,    0,    2,    0],\n",
       "         [1811,  516,  273, ...,    0,    0,    0],\n",
       "         ...,\n",
       "         [3002, 4058, 2299, ...,    3,    0,    1],\n",
       "         [ 838, 8846, 2903, ...,   16,    8,    6],\n",
       "         [ 998, 3726, 1795, ...,    0,    0,    4]]),\n",
       " 'D': 88,\n",
       " 'N': 46,\n",
       " 'p': 2,\n",
       " 'depth': array([9.73329218, 9.05742227, 8.81700144, 8.9183825 , 9.15037803,\n",
       "        8.89192414, 8.14380798, 9.23190615, 8.96226355, 9.41751713,\n",
       "        9.19410936, 9.60245003, 8.52098599, 8.87807926, 8.95454449,\n",
       "        9.09481728, 8.59415423, 8.91489491, 9.25951142, 8.59951023,\n",
       "        8.84635304, 8.40200678, 9.31045716, 9.22128031, 9.06797003,\n",
       "        9.33838172, 8.8503743 , 9.78284418, 8.76701762, 9.11493019,\n",
       "        9.52930306, 9.64853078, 9.43691802, 9.5888453 , 8.31164395,\n",
       "        9.07772285, 8.59359852, 9.13852208, 8.70582811, 9.27883979,\n",
       "        8.43010908, 9.67940606, 9.00650913, 9.31901539, 9.99442455,\n",
       "        9.1018639 ]),\n",
       " 'x': array([[1., 0.],\n",
       "        [1., 1.],\n",
       "        [1., 0.],\n",
       "        [1., 1.],\n",
       "        [1., 0.],\n",
       "        [1., 1.],\n",
       "        [1., 0.],\n",
       "        [1., 1.],\n",
       "        [1., 0.],\n",
       "        [1., 1.],\n",
       "        [1., 0.],\n",
       "        [1., 1.],\n",
       "        [1., 0.],\n",
       "        [1., 1.],\n",
       "        [1., 0.],\n",
       "        [1., 1.],\n",
       "        [1., 0.],\n",
       "        [1., 1.],\n",
       "        [1., 0.],\n",
       "        [1., 1.],\n",
       "        [1., 0.],\n",
       "        [1., 1.],\n",
       "        [1., 0.],\n",
       "        [1., 1.],\n",
       "        [1., 0.],\n",
       "        [1., 1.],\n",
       "        [1., 0.],\n",
       "        [1., 1.],\n",
       "        [1., 0.],\n",
       "        [1., 1.],\n",
       "        [1., 0.],\n",
       "        [1., 1.],\n",
       "        [1., 0.],\n",
       "        [1., 1.],\n",
       "        [1., 0.],\n",
       "        [1., 1.],\n",
       "        [1., 0.],\n",
       "        [1., 1.],\n",
       "        [1., 0.],\n",
       "        [1., 1.],\n",
       "        [1., 0.],\n",
       "        [1., 1.],\n",
       "        [1., 0.],\n",
       "        [1., 1.],\n",
       "        [1., 0.],\n",
       "        [1., 1.]]),\n",
       " 'S': 23,\n",
       " 'subj_ids': array([ 1,  1,  2,  2,  3,  3,  4,  4,  5,  5,  6,  6,  7,  7,  8,  8,  9,\n",
       "         9, 10, 10, 11, 11, 12, 12, 13, 13, 14, 14, 15, 15, 16, 16, 17, 17,\n",
       "        18, 18, 19, 19, 20, 20, 21, 21, 22, 22, 23, 23], dtype=int8),\n",
       " 'B_p': 3.0,\n",
       " 'phi_s': 3.0,\n",
       " 'u_p': 1.0}"
      ]
     },
     "execution_count": 19,
     "metadata": {},
     "output_type": "execute_result"
    }
   ],
   "source": [
    "nb_lme.dat"
   ]
  },
  {
   "cell_type": "code",
   "execution_count": 20,
   "id": "royal-tsunami",
   "metadata": {},
   "outputs": [
    {
     "name": "stderr",
     "output_type": "stream",
     "text": [
      "INFO:cmdstanpy:found newer exe file, not recompiling\n",
      "INFO:cmdstanpy:compiled model file: /Users/gibs/projects/birdman-demo/models/negative_binomial_re\n"
     ]
    }
   ],
   "source": [
    "nb_lme.compile_model()"
   ]
  },
  {
   "cell_type": "code",
   "execution_count": 21,
   "id": "incoming-blend",
   "metadata": {},
   "outputs": [
    {
     "name": "stderr",
     "output_type": "stream",
     "text": [
      "INFO:cmdstanpy:start chain 1\n",
      "INFO:cmdstanpy:start chain 2\n",
      "INFO:cmdstanpy:start chain 3\n",
      "INFO:cmdstanpy:start chain 4\n",
      "INFO:cmdstanpy:finish chain 3\n",
      "INFO:cmdstanpy:finish chain 1\n",
      "INFO:cmdstanpy:finish chain 2\n",
      "INFO:cmdstanpy:finish chain 4\n"
     ]
    },
    {
     "name": "stdout",
     "output_type": "stream",
     "text": [
      "CPU times: user 582 ms, sys: 58 ms, total: 640 ms\n",
      "Wall time: 28.4 s\n"
     ]
    }
   ],
   "source": [
    "%%time\n",
    "\n",
    "nb_lme.fit_model()"
   ]
  },
  {
   "cell_type": "code",
   "execution_count": 22,
   "id": "false-viewer",
   "metadata": {},
   "outputs": [
    {
     "name": "stderr",
     "output_type": "stream",
     "text": [
      "INFO:cmdstanpy:Processing csv files: /var/folders/1c/vd4s85fn44q78l5vrmmwn06c0000gn/T/tmp0vun36fz/negative_binomial_re-202103280040-1-2eq9qxiv.csv, /var/folders/1c/vd4s85fn44q78l5vrmmwn06c0000gn/T/tmp0vun36fz/negative_binomial_re-202103280040-2-fwkgyz0s.csv, /var/folders/1c/vd4s85fn44q78l5vrmmwn06c0000gn/T/tmp0vun36fz/negative_binomial_re-202103280040-3-r2gfllx3.csv, /var/folders/1c/vd4s85fn44q78l5vrmmwn06c0000gn/T/tmp0vun36fz/negative_binomial_re-202103280040-4-v8mb2ugb.csv\n",
      "\n",
      "Checking sampler transitions treedepth.\n",
      "Treedepth satisfactory for all transitions.\n",
      "\n",
      "Checking sampler transitions for divergences.\n",
      "No divergent transitions found.\n",
      "\n",
      "Checking E-BFMI - sampler transitions HMC potential energy.\n",
      "E-BFMI satisfactory for all transitions.\n",
      "\n",
      "Effective sample size satisfactory.\n",
      "\n",
      "The following parameters had split R-hat greater than 1.05:\n",
      "  y_predict[24,65]\n",
      "Such high values indicate incomplete mixing and biasedestimation.\n",
      "You should consider regularizating your model with additional prior information or a more effective parameterization.\n",
      "\n",
      "Processing complete.\n"
     ]
    }
   ],
   "source": [
    "nb_lme.diagnose();"
   ]
  },
  {
   "cell_type": "markdown",
   "id": "painted-newark",
   "metadata": {},
   "source": [
    "Now we will again transform this fitted model into an `arviz` inference object. Here we specify that we have another parameter of interest, `subj_int` of dimensions `subjects`."
   ]
  },
  {
   "cell_type": "code",
   "execution_count": 23,
   "id": "strategic-castle",
   "metadata": {},
   "outputs": [],
   "source": [
    "inference = nb_lme.to_inference_object(\n",
    "    params=[\"beta\", \"phi\", \"subj_int\"],\n",
    "    coords={\n",
    "        \"feature\": nb_lme.feature_names,\n",
    "        \"covariate\": nb_lme.colnames,\n",
    "        \"subject\": groups\n",
    "    },\n",
    "    dims={\n",
    "        \"beta\": [\"covariate\", \"feature\"],\n",
    "        \"phi\": [\"feature\"],\n",
    "        \"subj_int\": [\"subject\"]\n",
    "    },\n",
    "    alr_params=[\"beta\"],\n",
    "    posterior_predictive=\"y_predict\",\n",
    "    log_likelihood=\"log_lik\",\n",
    "    include_observed_data=True\n",
    ")"
   ]
  },
  {
   "cell_type": "code",
   "execution_count": 24,
   "id": "graphic-giant",
   "metadata": {},
   "outputs": [
    {
     "name": "stderr",
     "output_type": "stream",
     "text": [
      "/Users/gibs/miniconda3/envs/birdman/lib/python3.7/site-packages/arviz/stats/stats.py:653: UserWarning: Estimated shape parameter of Pareto distribution is greater than 0.7 for one or more samples. You should consider using a more robust model, this is because importance sampling is less likely to work well if the marginal posterior and LOO posterior are very different. This is more likely to happen with a non-robust model and highly influential observations.\n",
      "  \"Estimated shape parameter of Pareto distribution is greater than 0.7 for \"\n"
     ]
    },
    {
     "data": {
      "text/plain": [
       "Computed from 400 by 4048 log-likelihood matrix\n",
       "\n",
       "         Estimate       SE\n",
       "elpd_loo -14905.10   155.70\n",
       "p_loo      254.83        -\n",
       "\n",
       "There has been a warning during the calculation. Please check the results.\n",
       "------\n",
       "\n",
       "Pareto k diagnostic values:\n",
       "                         Count   Pct.\n",
       "(-Inf, 0.5]   (good)     3949   97.6%\n",
       " (0.5, 0.7]   (ok)         81    2.0%\n",
       "   (0.7, 1]   (bad)        18    0.4%\n",
       "   (1, Inf)   (very bad)    0    0.0%"
      ]
     },
     "execution_count": 24,
     "metadata": {},
     "output_type": "execute_result"
    }
   ],
   "source": [
    "import birdman.diagnostics as diag\n",
    "\n",
    "diag.loo(inference, pointwise=True)"
   ]
  },
  {
   "cell_type": "markdown",
   "id": "informative-improvement",
   "metadata": {},
   "source": [
    "We can now verify that the dimensions of our subject intercepts are (chain x draw x subject)."
   ]
  },
  {
   "cell_type": "code",
   "execution_count": 25,
   "id": "suffering-captain",
   "metadata": {},
   "outputs": [
    {
     "data": {
      "text/plain": [
       "('chain', 'draw', 'subject')"
      ]
     },
     "execution_count": 25,
     "metadata": {},
     "output_type": "execute_result"
    }
   ],
   "source": [
    "inference.posterior[\"subj_int\"].dims"
   ]
  },
  {
   "cell_type": "code",
   "execution_count": 26,
   "id": "exciting-asset",
   "metadata": {},
   "outputs": [
    {
     "data": {
      "text/plain": [
       "array(['Intercept',\n",
       "       \"C(time_point, Treatment('pre-deworm'))[T.post-deworm]\"],\n",
       "      dtype=object)"
      ]
     },
     "execution_count": 26,
     "metadata": {},
     "output_type": "execute_result"
    }
   ],
   "source": [
    "inference.posterior.coords[\"covariate\"].values"
   ]
  },
  {
   "cell_type": "code",
   "execution_count": 27,
   "id": "atmospheric-prize",
   "metadata": {},
   "outputs": [
    {
     "data": {
      "image/png": "[encoded data removed]",
      "text/plain": [
       "<Figure size 432x288 with 1 Axes>"
      ]
     },
     "metadata": {
      "needs_background": "light"
     },
     "output_type": "display_data"
    }
   ],
   "source": [
    "from birdman.visualization import plot_posterior_predictive_checks\n",
    "\n",
    "ax = plot_posterior_predictive_checks(inference)"
   ]
  },
  {
   "cell_type": "markdown",
   "id": "waiting-nursing",
   "metadata": {},
   "source": [
    "For this notebook we'll look at differential taxa by post-deworm status."
   ]
  },
  {
   "cell_type": "code",
   "execution_count": 28,
   "id": "accomplished-effects",
   "metadata": {},
   "outputs": [],
   "source": [
    "deworm_diff = inference.posterior[\"beta\"].sel(\n",
    "    {\"covariate\": \"C(time_point, Treatment('pre-deworm'))[T.post-deworm]\"}\n",
    ")\n",
    "deworm_diff = deworm_diff.stack(mcmc_sample=(\"chain\", \"draw\"))\n",
    "deworm_diff_means = deworm_diff.mean(dim=\"mcmc_sample\")\n",
    "deworm_diff_stds = deworm_diff.std(dim=\"mcmc_sample\")"
   ]
  },
  {
   "cell_type": "code",
   "execution_count": 29,
   "id": "responsible-bosnia",
   "metadata": {},
   "outputs": [
    {
     "data": {
      "text/html": [
       "<div><svg style=\"position: absolute; width: 0; height: 0; overflow: hidden\">\n",
       "<defs>\n",
       "<symbol id=\"icon-database\" viewBox=\"0 0 32 32\">\n",
       "<path d=\"M16 0c-8.837 0-16 2.239-16 5v4c0 2.761 7.163 5 16 5s16-2.239 16-5v-4c0-2.761-7.163-5-16-5z\"></path>\n",
       "<path d=\"M16 17c-8.837 0-16-2.239-16-5v6c0 2.761 7.163 5 16 5s16-2.239 16-5v-6c0 2.761-7.163 5-16 5z\"></path>\n",
       "<path d=\"M16 26c-8.837 0-16-2.239-16-5v6c0 2.761 7.163 5 16 5s16-2.239 16-5v-6c0 2.761-7.163 5-16 5z\"></path>\n",
       "</symbol>\n",
       "<symbol id=\"icon-file-text2\" viewBox=\"0 0 32 32\">\n",
       "<path d=\"M28.681 7.159c-0.694-0.947-1.662-2.053-2.724-3.116s-2.169-2.030-3.116-2.724c-1.612-1.182-2.393-1.319-2.841-1.319h-15.5c-1.378 0-2.5 1.121-2.5 2.5v27c0 1.378 1.122 2.5 2.5 2.5h23c1.378 0 2.5-1.122 2.5-2.5v-19.5c0-0.448-0.137-1.23-1.319-2.841zM24.543 5.457c0.959 0.959 1.712 1.825 2.268 2.543h-4.811v-4.811c0.718 0.556 1.584 1.309 2.543 2.268zM28 29.5c0 0.271-0.229 0.5-0.5 0.5h-23c-0.271 0-0.5-0.229-0.5-0.5v-27c0-0.271 0.229-0.5 0.5-0.5 0 0 15.499-0 15.5 0v7c0 0.552 0.448 1 1 1h7v19.5z\"></path>\n",
       "<path d=\"M23 26h-14c-0.552 0-1-0.448-1-1s0.448-1 1-1h14c0.552 0 1 0.448 1 1s-0.448 1-1 1z\"></path>\n",
       "<path d=\"M23 22h-14c-0.552 0-1-0.448-1-1s0.448-1 1-1h14c0.552 0 1 0.448 1 1s-0.448 1-1 1z\"></path>\n",
       "<path d=\"M23 18h-14c-0.552 0-1-0.448-1-1s0.448-1 1-1h14c0.552 0 1 0.448 1 1s-0.448 1-1 1z\"></path>\n",
       "</symbol>\n",
       "</defs>\n",
       "</svg>\n",
       "<style>/* CSS stylesheet for displaying xarray objects in jupyterlab.\n",
       " *\n",
       " */\n",
       "\n",
       ":root {\n",
       "  --xr-font-color0: var(--jp-content-font-color0, rgba(0, 0, 0, 1));\n",
       "  --xr-font-color2: var(--jp-content-font-color2, rgba(0, 0, 0, 0.54));\n",
       "  --xr-font-color3: var(--jp-content-font-color3, rgba(0, 0, 0, 0.38));\n",
       "  --xr-border-color: var(--jp-border-color2, #e0e0e0);\n",
       "  --xr-disabled-color: var(--jp-layout-color3, #bdbdbd);\n",
       "  --xr-background-color: var(--jp-layout-color0, white);\n",
       "  --xr-background-color-row-even: var(--jp-layout-color1, white);\n",
       "  --xr-background-color-row-odd: var(--jp-layout-color2, #eeeeee);\n",
       "}\n",
       "\n",
       "html[theme=dark],\n",
       "body.vscode-dark {\n",
       "  --xr-font-color0: rgba(255, 255, 255, 1);\n",
       "  --xr-font-color2: rgba(255, 255, 255, 0.54);\n",
       "  --xr-font-color3: rgba(255, 255, 255, 0.38);\n",
       "  --xr-border-color: #1F1F1F;\n",
       "  --xr-disabled-color: #515151;\n",
       "  --xr-background-color: #111111;\n",
       "  --xr-background-color-row-even: #111111;\n",
       "  --xr-background-color-row-odd: #313131;\n",
       "}\n",
       "\n",
       ".xr-wrap {\n",
       "  display: block;\n",
       "  min-width: 300px;\n",
       "  max-width: 700px;\n",
       "}\n",
       "\n",
       ".xr-text-repr-fallback {\n",
       "  /* fallback to plain text repr when CSS is not injected (untrusted notebook) */\n",
       "  display: none;\n",
       "}\n",
       "\n",
       ".xr-header {\n",
       "  padding-top: 6px;\n",
       "  padding-bottom: 6px;\n",
       "  margin-bottom: 4px;\n",
       "  border-bottom: solid 1px var(--xr-border-color);\n",
       "}\n",
       "\n",
       ".xr-header > div,\n",
       ".xr-header > ul {\n",
       "  display: inline;\n",
       "  margin-top: 0;\n",
       "  margin-bottom: 0;\n",
       "}\n",
       "\n",
       ".xr-obj-type,\n",
       ".xr-array-name {\n",
       "  margin-left: 2px;\n",
       "  margin-right: 10px;\n",
       "}\n",
       "\n",
       ".xr-obj-type {\n",
       "  color: var(--xr-font-color2);\n",
       "}\n",
       "\n",
       ".xr-sections {\n",
       "  padding-left: 0 !important;\n",
       "  display: grid;\n",
       "  grid-template-columns: 150px auto auto 1fr 20px 20px;\n",
       "}\n",
       "\n",
       ".xr-section-item {\n",
       "  display: contents;\n",
       "}\n",
       "\n",
       ".xr-section-item input {\n",
       "  display: none;\n",
       "}\n",
       "\n",
       ".xr-section-item input + label {\n",
       "  color: var(--xr-disabled-color);\n",
       "}\n",
       "\n",
       ".xr-section-item input:enabled + label {\n",
       "  cursor: pointer;\n",
       "  color: var(--xr-font-color2);\n",
       "}\n",
       "\n",
       ".xr-section-item input:enabled + label:hover {\n",
       "  color: var(--xr-font-color0);\n",
       "}\n",
       "\n",
       ".xr-section-summary {\n",
       "  grid-column: 1;\n",
       "  color: var(--xr-font-color2);\n",
       "  font-weight: 500;\n",
       "}\n",
       "\n",
       ".xr-section-summary > span {\n",
       "  display: inline-block;\n",
       "  padding-left: 0.5em;\n",
       "}\n",
       "\n",
       ".xr-section-summary-in:disabled + label {\n",
       "  color: var(--xr-font-color2);\n",
       "}\n",
       "\n",
       ".xr-section-summary-in + label:before {\n",
       "  display: inline-block;\n",
       "  content: '►';\n",
       "  font-size: 11px;\n",
       "  width: 15px;\n",
       "  text-align: center;\n",
       "}\n",
       "\n",
       ".xr-section-summary-in:disabled + label:before {\n",
       "  color: var(--xr-disabled-color);\n",
       "}\n",
       "\n",
       ".xr-section-summary-in:checked + label:before {\n",
       "  content: '▼';\n",
       "}\n",
       "\n",
       ".xr-section-summary-in:checked + label > span {\n",
       "  display: none;\n",
       "}\n",
       "\n",
       ".xr-section-summary,\n",
       ".xr-section-inline-details {\n",
       "  padding-top: 4px;\n",
       "  padding-bottom: 4px;\n",
       "}\n",
       "\n",
       ".xr-section-inline-details {\n",
       "  grid-column: 2 / -1;\n",
       "}\n",
       "\n",
       ".xr-section-details {\n",
       "  display: none;\n",
       "  grid-column: 1 / -1;\n",
       "  margin-bottom: 5px;\n",
       "}\n",
       "\n",
       ".xr-section-summary-in:checked ~ .xr-section-details {\n",
       "  display: contents;\n",
       "}\n",
       "\n",
       ".xr-array-wrap {\n",
       "  grid-column: 1 / -1;\n",
       "  display: grid;\n",
       "  grid-template-columns: 20px auto;\n",
       "}\n",
       "\n",
       ".xr-array-wrap > label {\n",
       "  grid-column: 1;\n",
       "  vertical-align: top;\n",
       "}\n",
       "\n",
       ".xr-preview {\n",
       "  color: var(--xr-font-color3);\n",
       "}\n",
       "\n",
       ".xr-array-preview,\n",
       ".xr-array-data {\n",
       "  padding: 0 5px !important;\n",
       "  grid-column: 2;\n",
       "}\n",
       "\n",
       ".xr-array-data,\n",
       ".xr-array-in:checked ~ .xr-array-preview {\n",
       "  display: none;\n",
       "}\n",
       "\n",
       ".xr-array-in:checked ~ .xr-array-data,\n",
       ".xr-array-preview {\n",
       "  display: inline-block;\n",
       "}\n",
       "\n",
       ".xr-dim-list {\n",
       "  display: inline-block !important;\n",
       "  list-style: none;\n",
       "  padding: 0 !important;\n",
       "  margin: 0;\n",
       "}\n",
       "\n",
       ".xr-dim-list li {\n",
       "  display: inline-block;\n",
       "  padding: 0;\n",
       "  margin: 0;\n",
       "}\n",
       "\n",
       ".xr-dim-list:before {\n",
       "  content: '(';\n",
       "}\n",
       "\n",
       ".xr-dim-list:after {\n",
       "  content: ')';\n",
       "}\n",
       "\n",
       ".xr-dim-list li:not(:last-child):after {\n",
       "  content: ',';\n",
       "  padding-right: 5px;\n",
       "}\n",
       "\n",
       ".xr-has-index {\n",
       "  font-weight: bold;\n",
       "}\n",
       "\n",
       ".xr-var-list,\n",
       ".xr-var-item {\n",
       "  display: contents;\n",
       "}\n",
       "\n",
       ".xr-var-item > div,\n",
       ".xr-var-item label,\n",
       ".xr-var-item > .xr-var-name span {\n",
       "  background-color: var(--xr-background-color-row-even);\n",
       "  margin-bottom: 0;\n",
       "}\n",
       "\n",
       ".xr-var-item > .xr-var-name:hover span {\n",
       "  padding-right: 5px;\n",
       "}\n",
       "\n",
       ".xr-var-list > li:nth-child(odd) > div,\n",
       ".xr-var-list > li:nth-child(odd) > label,\n",
       ".xr-var-list > li:nth-child(odd) > .xr-var-name span {\n",
       "  background-color: var(--xr-background-color-row-odd);\n",
       "}\n",
       "\n",
       ".xr-var-name {\n",
       "  grid-column: 1;\n",
       "}\n",
       "\n",
       ".xr-var-dims {\n",
       "  grid-column: 2;\n",
       "}\n",
       "\n",
       ".xr-var-dtype {\n",
       "  grid-column: 3;\n",
       "  text-align: right;\n",
       "  color: var(--xr-font-color2);\n",
       "}\n",
       "\n",
       ".xr-var-preview {\n",
       "  grid-column: 4;\n",
       "}\n",
       "\n",
       ".xr-var-name,\n",
       ".xr-var-dims,\n",
       ".xr-var-dtype,\n",
       ".xr-preview,\n",
       ".xr-attrs dt {\n",
       "  white-space: nowrap;\n",
       "  overflow: hidden;\n",
       "  text-overflow: ellipsis;\n",
       "  padding-right: 10px;\n",
       "}\n",
       "\n",
       ".xr-var-name:hover,\n",
       ".xr-var-dims:hover,\n",
       ".xr-var-dtype:hover,\n",
       ".xr-attrs dt:hover {\n",
       "  overflow: visible;\n",
       "  width: auto;\n",
       "  z-index: 1;\n",
       "}\n",
       "\n",
       ".xr-var-attrs,\n",
       ".xr-var-data {\n",
       "  display: none;\n",
       "  background-color: var(--xr-background-color) !important;\n",
       "  padding-bottom: 5px !important;\n",
       "}\n",
       "\n",
       ".xr-var-attrs-in:checked ~ .xr-var-attrs,\n",
       ".xr-var-data-in:checked ~ .xr-var-data {\n",
       "  display: block;\n",
       "}\n",
       "\n",
       ".xr-var-data > table {\n",
       "  float: right;\n",
       "}\n",
       "\n",
       ".xr-var-name span,\n",
       ".xr-var-data,\n",
       ".xr-attrs {\n",
       "  padding-left: 25px !important;\n",
       "}\n",
       "\n",
       ".xr-attrs,\n",
       ".xr-var-attrs,\n",
       ".xr-var-data {\n",
       "  grid-column: 1 / -1;\n",
       "}\n",
       "\n",
       "dl.xr-attrs {\n",
       "  padding: 0;\n",
       "  margin: 0;\n",
       "  display: grid;\n",
       "  grid-template-columns: 125px auto;\n",
       "}\n",
       "\n",
       ".xr-attrs dt,\n",
       ".xr-attrs dd {\n",
       "  padding: 0;\n",
       "  margin: 0;\n",
       "  float: left;\n",
       "  padding-right: 10px;\n",
       "  width: auto;\n",
       "}\n",
       "\n",
       ".xr-attrs dt {\n",
       "  font-weight: normal;\n",
       "  grid-column: 1;\n",
       "}\n",
       "\n",
       ".xr-attrs dt:hover span {\n",
       "  display: inline-block;\n",
       "  background: var(--xr-background-color);\n",
       "  padding-right: 10px;\n",
       "}\n",
       "\n",
       ".xr-attrs dd {\n",
       "  grid-column: 2;\n",
       "  white-space: pre-wrap;\n",
       "  word-break: break-all;\n",
       "}\n",
       "\n",
       ".xr-icon-database,\n",
       ".xr-icon-file-text2 {\n",
       "  display: inline-block;\n",
       "  vertical-align: middle;\n",
       "  width: 1em;\n",
       "  height: 1.5em !important;\n",
       "  stroke-width: 0;\n",
       "  stroke: currentColor;\n",
       "  fill: currentColor;\n",
       "}\n",
       "</style><pre class='xr-text-repr-fallback'>&lt;xarray.DataArray &#x27;beta&#x27; (feature: 88)&gt;\n",
       "array([-2.46478577, -1.69512548, -1.37817681, -1.32298247, -1.31094608,\n",
       "       -1.13537057, -1.08588968, -1.07657731, -0.9232941 , -0.86684728,\n",
       "       -0.79534875, -0.73874434, -0.70865246, -0.68615234, -0.6653098 ,\n",
       "       -0.62815381, -0.60408235, -0.5729797 , -0.4313488 , -0.410583  ,\n",
       "       -0.3822664 , -0.37263546, -0.37018474, -0.35202177, -0.32738855,\n",
       "       -0.32433081, -0.31306102, -0.31093225, -0.28566328, -0.23330058,\n",
       "       -0.22337411, -0.22057181, -0.20629276, -0.18788811, -0.1812819 ,\n",
       "       -0.14987975, -0.14408073, -0.12653829, -0.10147093, -0.10050677,\n",
       "       -0.06480637, -0.02737752,  0.03511848,  0.03722411,  0.04489603,\n",
       "        0.05521896,  0.07859627,  0.09192131,  0.12172158,  0.1274048 ,\n",
       "        0.13166914,  0.16242287,  0.18379463,  0.1912052 ,  0.19254754,\n",
       "        0.20541254,  0.2248786 ,  0.2333704 ,  0.2375052 ,  0.23986714,\n",
       "        0.37615193,  0.37840281,  0.41954148,  0.42126116,  0.44297256,\n",
       "        0.4566406 ,  0.4630838 ,  0.4922133 ,  0.52384774,  0.52451548,\n",
       "        0.56378313,  0.57591525,  0.59364377,  0.60526606,  0.65772346,\n",
       "        0.78755576,  0.79303635,  0.8181217 ,  0.91505608,  0.92326136,\n",
       "        0.92436216,  0.94177514,  1.01348833,  1.13276778,  1.19368264,\n",
       "        1.27371843,  1.47478747,  2.22585422])\n",
       "Coordinates:\n",
       "  * feature    (feature) object &#x27;TACGTAGGTCCCGAGCGTTGTCCGGATTTATTGGGCGTAAAGCG...\n",
       "    covariate  &lt;U53 &quot;C(time_point, Treatment(&#x27;pre-deworm&#x27;))[T.post-deworm]&quot;</pre><div class='xr-wrap' hidden><div class='xr-header'><div class='xr-obj-type'>xarray.DataArray</div><div class='xr-array-name'>'beta'</div><ul class='xr-dim-list'><li><span class='xr-has-index'>feature</span>: 88</li></ul></div><ul class='xr-sections'><li class='xr-section-item'><div class='xr-array-wrap'><input id='section-37d9b158-4f1e-48d9-aa68-6efc034a3766' class='xr-array-in' type='checkbox' checked><label for='section-37d9b158-4f1e-48d9-aa68-6efc034a3766' title='Show/hide data repr'><svg class='icon xr-icon-database'><use xlink:href='#icon-database'></use></svg></label><div class='xr-array-preview xr-preview'><span>-2.465 -1.695 -1.378 -1.323 -1.311 ... 1.133 1.194 1.274 1.475 2.226</span></div><div class='xr-array-data'><pre>array([-2.46478577, -1.69512548, -1.37817681, -1.32298247, -1.31094608,\n",
       "       -1.13537057, -1.08588968, -1.07657731, -0.9232941 , -0.86684728,\n",
       "       -0.79534875, -0.73874434, -0.70865246, -0.68615234, -0.6653098 ,\n",
       "       -0.62815381, -0.60408235, -0.5729797 , -0.4313488 , -0.410583  ,\n",
       "       -0.3822664 , -0.37263546, -0.37018474, -0.35202177, -0.32738855,\n",
       "       -0.32433081, -0.31306102, -0.31093225, -0.28566328, -0.23330058,\n",
       "       -0.22337411, -0.22057181, -0.20629276, -0.18788811, -0.1812819 ,\n",
       "       -0.14987975, -0.14408073, -0.12653829, -0.10147093, -0.10050677,\n",
       "       -0.06480637, -0.02737752,  0.03511848,  0.03722411,  0.04489603,\n",
       "        0.05521896,  0.07859627,  0.09192131,  0.12172158,  0.1274048 ,\n",
       "        0.13166914,  0.16242287,  0.18379463,  0.1912052 ,  0.19254754,\n",
       "        0.20541254,  0.2248786 ,  0.2333704 ,  0.2375052 ,  0.23986714,\n",
       "        0.37615193,  0.37840281,  0.41954148,  0.42126116,  0.44297256,\n",
       "        0.4566406 ,  0.4630838 ,  0.4922133 ,  0.52384774,  0.52451548,\n",
       "        0.56378313,  0.57591525,  0.59364377,  0.60526606,  0.65772346,\n",
       "        0.78755576,  0.79303635,  0.8181217 ,  0.91505608,  0.92326136,\n",
       "        0.92436216,  0.94177514,  1.01348833,  1.13276778,  1.19368264,\n",
       "        1.27371843,  1.47478747,  2.22585422])</pre></div></div></li><li class='xr-section-item'><input id='section-a2e83663-82a2-4c44-923d-8a0218e5a872' class='xr-section-summary-in' type='checkbox'  checked><label for='section-a2e83663-82a2-4c44-923d-8a0218e5a872' class='xr-section-summary' >Coordinates: <span>(2)</span></label><div class='xr-section-inline-details'></div><div class='xr-section-details'><ul class='xr-var-list'><li class='xr-var-item'><div class='xr-var-name'><span class='xr-has-index'>feature</span></div><div class='xr-var-dims'>(feature)</div><div class='xr-var-dtype'>object</div><div class='xr-var-preview xr-preview'>&#x27;TACGTAGGTCCCGAGCGTTGTCCGGATTTAT...</div><input id='attrs-15af9602-4fa8-4a0d-b56a-9c4fcc722726' class='xr-var-attrs-in' type='checkbox' disabled><label for='attrs-15af9602-4fa8-4a0d-b56a-9c4fcc722726' title='Show/Hide attributes'><svg class='icon xr-icon-file-text2'><use xlink:href='#icon-file-text2'></use></svg></label><input id='data-09422bdc-b3fd-45c2-8f15-359dc6ff4a77' class='xr-var-data-in' type='checkbox'><label for='data-09422bdc-b3fd-45c2-8f15-359dc6ff4a77' title='Show/Hide data repr'><svg class='icon xr-icon-database'><use xlink:href='#icon-database'></use></svg></label><div class='xr-var-attrs'><dl class='xr-attrs'></dl></div><div class='xr-var-data'><pre>array([&#x27;TACGTAGGTCCCGAGCGTTGTCCGGATTTATTGGGCGTAAAGCGAGCGCAGGCGGTTTAATAAGTCTGAAGTTAAAGGCAGTGGCTTAAC&#x27;,\n",
       "       &#x27;TACGTAGGTGGCGAGCGTTATCCGGATTTACTGGGTGTAAAGGGCGCGTAGGCGGGAATGCAAGTCAGATGTGAAATCCAGGGGCTTAAC&#x27;,\n",
       "       &#x27;TACGTAGGTGGCAAGCGTTGTCCGGAATTATTGGGCGTAAAGCGCGCGCAGGCGGCCGTGCAAGTCCATCTTAAAAGCGTGGGGCTTAAC&#x27;,\n",
       "       &#x27;TACGGAGGGTGCAAGCGTTAATCGGAATTACTGGGCGTAAAGCGCACGCAGGCGGTTTGTTAAGTCAGATGTGAAATCCCCGGGCTCAAC&#x27;,\n",
       "       &#x27;TACGTAGGTGGCGAGCGTTGTCCGGATTTACTGGGCGTAAAGGGAGCGTAGGCGGATTTTTAAGTGAGATGTGAAATACTCGGGCTTAAC&#x27;,\n",
       "       &#x27;TACGTATGGTGCAAGCGTTATCCGGATTTACTGGGTGTAAAGGGTGCGTAGGTGGTATGGCAAGTCAGAAGTGAAAGGCTGGGGCTCAAC&#x27;,\n",
       "       &#x27;TACGTAGGTGGCGAGCGTTATCCGGATTTACTGGGTGTAAAGGGCGCGTAGGCGGGAATGCAAGTCAGATGTGAAATCCAAGGGCTCAAC&#x27;,\n",
       "       &#x27;TACGTAGGTGGCAAGCGTTGTCCGGATTTACTGGGTGTAAAGGGCGTGTAGGCGGGAGAGCAAGTCAGAAGTGAAATCTATGGGCTTAAC&#x27;,\n",
       "       &#x27;TACGTAGGTGGCGAGCGTTATCCGGAATTATTGGGCGTAAAGAGGGAGCAGGCGGCACTAAGGGTCTGTGGTGAAAGATCGAAGCTTAAC&#x27;,\n",
       "       &#x27;TACGTAGGGGGCAAGCGTTATCCGGATTTACTGGGTGTAAAGGGAGCGTAGACGGAATGGCAAGTCTGATGTGAAAGGCCGGGGCTCAAC&#x27;,\n",
       "       &#x27;TACGTAGGTGGCGAGCGTTGTCCGGATTTACTGGGCGTAAAGGGAGCGTAGGCGGACTTTTAAGTGAGATGTGAAATACCCGGGCTCAAC&#x27;,\n",
       "       &#x27;TACGTAGGGGGCAAGCGTTATCCGGATTTACTGGGTGTAAAGGGAGCGTAGACGGACTGGCAAGTCTGATGTGAAAGGCGGGGGCTCAAC&#x27;,\n",
       "       &#x27;TACGTAGGTGGCAAGCGTTGTCCGGATTTACTGGGTGTAAAGGGCGTGTAGGCGGGAAGACAGGTCAGATGTGAAATGTCGGGGCTCAAC&#x27;,\n",
       "       &#x27;TACGTAGGGGGCTAGCGTTATCCGGAATTACTGGGCGTAAAGGGTGCGTAGGTGGTTTCTTAAGTCAGAGGTGAAAGGCTACGGCTCAAC&#x27;,\n",
       "       &#x27;TACGTATGGTGCAAGCGTTATCCGGATTTACTGGGTGTAAAGGGAGCGCAGGCGGTGCGGCAAGTCTGATGTGAAAGCCCGGGGCTCAAC&#x27;,\n",
       "       &#x27;TACGTAGGTGGCAAGCGTTATCCGGAATTACTGGGTGTAAAGGGAGCGCAGGCGGGATAGCAAGTCAGCTGTGAAAACTATGGGCTCAAC&#x27;,\n",
       "       &#x27;TACGTAGGGGGCAAGCGTTATCCGGATTTACTGGGTGTAAAGGGAGCGTAGGCGGCGGAGCAAGTCAGAAGTGAAAGCCCGGGGCTCAAC&#x27;,\n",
       "       &#x27;TACGTAGGGGGCAAGCGTTATCCGGATTTACTGGGTGTAAAGGGAGCGTAGACGGCTGTGCAAGTCTGAAGTGAAAGGCATGGGCTCAAC&#x27;,\n",
       "       &#x27;TACGTAGGTGGCGAGCGTTATCCGGAATCATTGGGCGTAAAGAGGGAGCAGGCGGCCGCAAGGGTCTGTGGTGAAAGACCGAAGCTAAAC&#x27;,\n",
       "       &#x27;TACGTAGGTGGCGAGCGTTATCCGGAATGATTGGGCGTAAAGGGTGCGTAGGTGGCAGATCAAGTCTGGAGTAAAAGGTATGGGCTCAAC&#x27;,\n",
       "       &#x27;TACGTAGGGAGCGAGCGTTGTCCGGAATTACTGGGTGTAAAGGGAGCGTAGGCGGGATGGCAAGTCAGATGTGAAAACTATGGGCTCAAC&#x27;,\n",
       "       &#x27;TACGTAGGTTGCAAGCGTTGTCCGGATTTACTGGGTGTAAAGGGCGTGTAGGCGGAGATGCAAGTTGGGAGTGAAATCCATGGGCTCAAC&#x27;,\n",
       "       &#x27;TACGTATGGTGCAAGCGTTATCCGGATTTACTGGGTGTAAAGGGTGCGTAGGTGGCAAGGCAAGTCTGAAGTGAAAATCCGGGGCTCAAC&#x27;,\n",
       "       &#x27;TACGTAGGGGGCAAGCGTTATCCGGATTTACTGGGTGTAAAGGGAGCGTAGACGGCACGGCAAGCCAGATGTGAAAGCCCGGGGCTCAAC&#x27;,\n",
       "       &#x27;TACGTAGGATGCAAGCGTTATCCGGATTTACTGGGTGTAAAGGGAGCGCAGGCGGGACTGCAAGTTGGATGTGAAATACCGTGGCTTAAC&#x27;,\n",
       "       &#x27;TACGTAGGGGGCAAGCGTTATCCGGATTTACTGGGTGTAAAGGGAGCGTAGACGGCGCAGCAAGTCTGATGTGAAAGGCAGGGGCTTAAC&#x27;,\n",
       "       &#x27;TACGTAGGTGGCAAGCGTTGTCCGGAATTACTGGGTGTAAAGGGAGCGTAGGCGGGCAGGCAAGTCAGGCGTGAAATATATCGGCTCAAC&#x27;,\n",
       "       &#x27;TACGTAGGGGGCTAGCGTTATCCGGATTTACTGGGCGTAAAGGGTGCGTAGGCGGTCTTTTAAGTCAGGAGTGAAAGGCTACGGCTCAAC&#x27;,\n",
       "       &#x27;TACGGAGGATGCGAGCGTTATCCGGATTTATTGGGTTTAAAGGGTGCGCAGGCGGCGCGCCAAGTCAGCGGTCAAAGTTCCGGGCTCAAC&#x27;,\n",
       "       &#x27;TACGTAGGGGGCAAGCGTTATCCGGAATTACTGGGTGTAAAGGGAGCGTAGGCGGCACGCCAAGCCAGATGTGAAAGCCCGAGGCTTAAC&#x27;,\n",
       "       &#x27;TACGTAGGGAGCAAGCGTTATCCGGATTTACTGGGTGTAAAGGGCGCGCAGGCGGGCCGGCAAGTTGGAAGTGAAATCTATGGGCTTAAC&#x27;,\n",
       "       &#x27;TACGTAGGTGGCAAGCGTTGTCCGGATTTACTGGGTGTAAAGGGCGTGCAGCCGGGTCTGCAAGTCAGATGTGAAATCCATGGGCTCAAC&#x27;,\n",
       "       &#x27;TACGTAGGGGGCAAGCGTTATCCGGAATTACTGGGTGTAAAGGGTGCGTAGGTGGTATGGCAAGTCAGAAGTGAAAACCCAGGGCTTAAC&#x27;,\n",
       "       &#x27;TACGTAGGGTGCAAGCGTTATCCGGAATTATTGGGCGTAAAGGGCTCGTAGGCGGTTCGTCGCGTCCGGTGTGAAAGTCCATCGCTTAAC&#x27;,\n",
       "       &#x27;TACGTATGGTGCAAGCGTTATCCGGATTTACTGGGTGTAAAGGGAGCGTAGACGGAGTGGCAAGTCTGATGTGAAAACCCGGGGCTCAAC&#x27;,\n",
       "       &#x27;TACGTATGGTGCAAGCGTTATCCGGATTTACTGGGTGTAAAGGGAGCGCAGGCGGAAGGCTAAGTCTGATGTGAAAGCCCGGGGCTCAAC&#x27;,\n",
       "       &#x27;TACGTAGGTGGCAAGCGTTATCCGGATTTACTGGGTGTAAAGGGCGTGTAGGCGGGAGTGCAAGTCAGATGTGAAAATTATGGGCTCAAC&#x27;,\n",
       "       &#x27;AACGTAGGGTGCAAGCGTTGTCCGGAATTACTGGGTGTAAAGGGAGCGCAGGCGGACCGGCAAGTTGGAAGTGAAAACTATGGGCTCAAC&#x27;,\n",
       "       &#x27;TACGTAGGTGGCAAGCGTTGTCCGGAATTATTGGGCGTAAAGCGCGCGCAGGCGGCTTCTTAAGTCCATCTTAAAAGTGCGGGGCTTAAC&#x27;,\n",
       "       &#x27;TACGTAGGGGGCGAGCGTTGTCCGGAATGATTGGGCGTAAAGGGCGCGTAGGCGGCCTGCTAAGTCTGGAGTGAAAGTCCTGCTTTCAAG&#x27;,\n",
       "       &#x27;TACGTATGGAGCAAGCGTTATCCGGATTTACTGGGTGTAAAGGGTGCGTAGGTGGCAGTGCAAGTCAGATGTGAAAGGCCGGGGCTCAAC&#x27;,\n",
       "       &#x27;TACGTAGGTGGCAAGCGTTGTCCGGATTTACTGGGTGTAAAGGGCGTGTAGGCGGAGAAGCAAGTCAGAAGTGAAATCCATGGGCTTAAC&#x27;,\n",
       "       &#x27;TACGTAGGGGGCAAGCGTTATCCGGATTTACTGGGTGTAAAGGGAGCGTAGACGGTGTGGCAAGTCTGATGTGAAAGGCATGGGCTCAAC&#x27;,\n",
       "       &#x27;TACGTAGGGGGCAAGCGTTATCCGGATTTACTGGGTGTAAAGGGAGCGTAGACGGCTAAGCAAGTCAGAAGTGAAAGGCTGGGGCTCAAC&#x27;,\n",
       "       &#x27;TACGTAGGTGGCGAGCGTTATCCGGAATGATTGGGCGTAAAGGGTGCGTAGGTGGCAGAACAAGTCTGGAGTAAAAGGTATGGGCTCAAC&#x27;,\n",
       "       &#x27;TACGTAGGTGGCAAGCGTTGTCCGGATTTACTGGGTGTAAAGGGCGTGTAGCCGGGAGGGCAAGTCAGATGTGAAATCCACGGGCTCAAC&#x27;,\n",
       "       &#x27;TACGTAGGGGGCAAGCGTTATCCGGATTTACTGGGTGTAAAGGGAGCGTAGACGGCAAGGCAAGTCTGATGTGAAAACCCAGGGCTTAAC&#x27;,\n",
       "       &#x27;TACGTAGGTGGCAAGCGTTGTCCGGATTTACTGGGTGTAAAGGGCGTGCAGCCGGGCATGCAAGTCAGATGTGAAATCTCAGGGCTTAAC&#x27;,\n",
       "       &#x27;TACGTATGGTGCAAGCGTTATCCGGATTTACTGGGTGTAAAGGGAGCGTAGACGGCTGTGTAAGTCTGAAGTGAAAGCCCGGGGCTCAAC&#x27;,\n",
       "       &#x27;TACGTAGGGGGCAAGCGTTATCCGGATTTACTGGGTGTAAAGGGAGCGTAGACGGTTTTGCAAGTCTGAAGTGAAAGCCCGGGGCTTAAC&#x27;,\n",
       "       &#x27;TACGGAGGGTGCGAGCGTTAATCGGAATAACTGGGCGTAAAGGGCACGCAGGCGGTGACTTAAGTGAGGTGTGAAAGCCCCGGGCTTAAC&#x27;,\n",
       "       &#x27;TACGGAAGGTCCAGGCGTTATCCGGATTTATTGGGTTTAAAGGGAGCGCAGGCGGCGGCGTAAGTCAGTTGTGAAATCGTGCGGCTTAAC&#x27;,\n",
       "       &#x27;AACGTAGGTCACAAGCGTTGTCCGGAATTACTGGGTGTAAAGGGAGCGCAGGCGGGAAGACAAGTTGGAAGTGAAATCCATGGGCTCAAC&#x27;,\n",
       "       &#x27;TACGTAGGGGGCAAGCGTTATCCGGATTTACTGGGTGTAAAGGGAGCGTAGACGGATGGACAAGTCTGATGTGAAAGGCTGGGGCTCAAC&#x27;,\n",
       "       &#x27;TACGGAGGATGCGAGCGTTATCCGGATTTATTGGGTTTAAAGGGAGCGCAGGCTGCGAGGCAAGTCAGCGGTCAAATGTCGGGGCTCAAC&#x27;,\n",
       "       &#x27;TACGTAGGTAGCGAGCGTTATCCGGAATTATTGGGCGTAAAGGGTGCGTAGGCGGCCTGTTAAGTTTATGGTGAAAGCGTGGGGCTCAAC&#x27;,\n",
       "       &#x27;TACGTAGGGGGCAAGCGTTATCCGGATTTACTGGGTGTAAAGGGAGCGTAGACGGCGACGCAAGTCTGAAGTGAAATACCCGGGCTCAAC&#x27;,\n",
       "       &#x27;TACGTAGGTGGCAAGCGTTGTCCGGATTTACTGGGTGTAAAGGGCGTGTAGCCGGGAAGGCAAGTCAGATGTGAAATCCACGGGCTCAAC&#x27;,\n",
       "       &#x27;TACGTAGGGGGCAAGCGTTGTCCGGAATTATTGGGCGTAAAGAGTACGTAGGCGGTCTGGTAAGCGCAAGGTGAAAGGCATAGGCTCAAC&#x27;,\n",
       "       &#x27;TACGTAGGGGGCAAGCGTTATCCGGATTTACTGGGTGTAAAGGGAGCGTAGACGGTAAAGCAAGTCTGAAGTGAAAGCCCGGGGCTCAAC&#x27;,\n",
       "       &#x27;TACGGAAGGTCCGGGCGTTATCCGGATTTATTGGGTTTAAAGGGAGCGTAGGCCGTCTGTTAAGCGTGTTGTGAAATGTCGGGGCTCAAC&#x27;,\n",
       "       &#x27;TACGGGGGATGCGAGCGTTATCCGGATTTATTGGGTTTAAAGGGTGCGTAGGCGGCGAATTAAGTCAGCGGTGAAAGACCGGGGCTCAAC&#x27;,\n",
       "       &#x27;TACGTAGGTCCCGAGCGTTGTCCGGATTTATTGGGCGTAAAGCGAGCGCAGGCGGTTTGATAAGTCTGAAGTTAAAGGCTGTGGCTCAAC&#x27;,\n",
       "       &#x27;TACGTAGGTGGCGAGCGTTGTCCGGAATTATTGGGCGTAAAGAGCATGTAGGCGGTTTTTTAAGTCTGGAGTGAAAATGCGGGGCTCAAC&#x27;,\n",
       "       &#x27;TACGGAAGGTCCGGGCGTTATCCGGATTTATTGGGTTTAAAGGGAGCGTAGGCCGGAGATTAAGCGTGTTGTGAAATGTAGTGGCTCAAC&#x27;,\n",
       "       &#x27;AACGTAGGTCACAAGCGTTGTCCGGAATTACTGGGTGTAAAGGGAGCGCAGGCGGGAAGACAAGTTGGAAGTGAAATCTATGGGCTCAAC&#x27;,\n",
       "       &#x27;TACGGAGGGTGCAAGCGTTAATCGGAATAACTGGGCGTAAAGGGCATGCAGGCGGTTCATCAAGTAGGATGTGAAATCCCCGGGCTCAAC&#x27;,\n",
       "       &#x27;TACGTAGGTGGCAAGCGTTATCCGGATTTACTGGGTGTAAAGGGCGTGTAGGCGGGAAAGCAAGTCAGATGTGAAAACTGTGGGCTCAAC&#x27;,\n",
       "       &#x27;TACGTAGGGGGCAAGCGTTATCCGGATTTACTGGGTGTAAAGGGAGCGTAGACGGCGATGCAAGTCTGAAGTGAAATACCCGGGCTCAAC&#x27;,\n",
       "       &#x27;TACGTAGGGGGCAAGCGTTATCCGGATTTACTGGGTGTAAAGGGAGCGTAGACGGTCAAGCAAGTCAGAAGTGAAAGGCTGGGGCTCAAC&#x27;,\n",
       "       &#x27;TACGTAGGGAGCAAGCGTTATCCGGATTTACTGGGTGTAAAGGGCGCGCAGGCGGGCCGGCAAGTTGGAAGTGAAATCCGGGGGCTTAAC&#x27;,\n",
       "       &#x27;TACGTATGGAGCAAGCGTTATCCGGATTTACTGGGTGTAAAGGGAGTGTAGGTGGCCATGCAAGTCAGAAGTGAAAATCCGGGGCTCAAC&#x27;,\n",
       "       &#x27;TACGGGGGATGCGAGCGTTATCCGGATTCATTGGGTTTAAAGGGTGCGTAGGCGGCCGAGTAAGTCAGCGGTGAAAGACCGGGGCTCAAC&#x27;,\n",
       "       &#x27;TACGGAAGGTCCGGGCGTTATCCGGATTTATTGGGTTTAAAGGGAGCGTAGGCCGGAGATTAAGCGTGTTGTGAAATGTAGACGCTCAAC&#x27;,\n",
       "       &#x27;TACGTAGGGTGCAAGCGTTAATCGGAATTACTGGGCGTAAAGCGTGCGCAGGCGGTTCTGTAAGATAGATGTGAAATCCCCGGGCTTAAC&#x27;,\n",
       "       &#x27;TACGTATGGAGCAAGCGTTATCCGGATTTACTGGGTGTAAAGGGAGTGTAGGTGGCCAGGCAAGTCAGAAGTGAAAGCCCGGGGCTCAAC&#x27;,\n",
       "       &#x27;AACGTAGGTCACAAGCGTTGTCCGGAATTACTGGGTGTAAAGGGAGCGCAGGCGGGAGAACAAGTTGGAAGTGAAATCCATGGGCTCAAC&#x27;,\n",
       "       &#x27;TACGGAAGGTCCGGGCGTTATCCGGATTTATTGGGTTTAAAGGGAGCGTAGGCCGGAGATTAAGCGTGTTGTGAAATGTAGATGCTCAAC&#x27;,\n",
       "       &#x27;TACGGAAGGTCCGGGCGTTATCCGGATTTATTGGGTTTAAAGGGAGCGTAGGCCGTCTGATAAGCGTGTTGTGAAATGTCGGGGCTCAAC&#x27;,\n",
       "       &#x27;TACGGAAGGTCCGGGCGTTATCCGGATTTATTGGGTTTAAAGGGAGCGTAGGCCGTCTTTTAAGCGTGTTGTGAAATACTGTCGCTCAAC&#x27;,\n",
       "       &#x27;TACGGAGGATGCGAGCGTTATCCGGATTTATTGGGTTTAAAGGGAGCGCAGACGGGACTTTAAGTCAGCTGTGAAATTTTCCGGCTCAAC&#x27;,\n",
       "       &#x27;TACGTAGGGAGCGAGCGTTGTCCGGAATGACTGGGTGTAAAGGGAGCGTAGGCGGGATGGCAAGTCAGATGTGAAACCTGAGGGCTCAAC&#x27;,\n",
       "       &#x27;TACGTAGGGTGCAAGCGTTAATCGGAATTACTGGGCGTAAAGCGTGCGCAGGCGGTTGGGTAAGACAGATGTGAAATCCCCGGGCTTAAC&#x27;,\n",
       "       &#x27;TACGTATGGTGCAAGCGTTATCCGGATTTACTGGGTGTAAAGGGAGCGTAGGTGGCAAGGCAAGCCAGAAGTGAAAACCCGGGGCTCAAC&#x27;,\n",
       "       &#x27;TACGGAAGGTCCAGGCGTTATCCGGATTTATTGGGTTTAAAGGGAGCGCAGGCGGACCTTTAAGTCAGCTGTGAAATACGGCGGCTCAAC&#x27;,\n",
       "       &#x27;TACGGAAGGTCCGGGCGTTATCCGGATTTATTGGGTTTAAAGGGAGCGTAGGCCGTCTGGTAAGCGTGTTGTGAAATGTCGGGGCTCAAC&#x27;,\n",
       "       &#x27;TACGTAGGTCCCGAGCGTTATCCGGATTTATTGGGCGTAAAGCGAGCGCAGGCGGTTAGATAAGTCTGAAGTTAAAGGCTGTGGCTTAAC&#x27;,\n",
       "       &#x27;TACGGAGGATCCGAGCGTTATCCGGATTTATTGGGTTTAAAGGGAGCGTAGATGGATGTTTAAGTCAGTTGTGAAAGTTTGCGGCTCAAC&#x27;],\n",
       "      dtype=object)</pre></div></li><li class='xr-var-item'><div class='xr-var-name'><span>covariate</span></div><div class='xr-var-dims'>()</div><div class='xr-var-dtype'>&lt;U53</div><div class='xr-var-preview xr-preview'>&quot;C(time_point, Treatment(&#x27;pre-de...</div><input id='attrs-5c972d9e-8f4f-4103-a749-fe02e3a503ff' class='xr-var-attrs-in' type='checkbox' disabled><label for='attrs-5c972d9e-8f4f-4103-a749-fe02e3a503ff' title='Show/Hide attributes'><svg class='icon xr-icon-file-text2'><use xlink:href='#icon-file-text2'></use></svg></label><input id='data-82123b77-2dc8-4a08-9607-5640fb3e3f5d' class='xr-var-data-in' type='checkbox'><label for='data-82123b77-2dc8-4a08-9607-5640fb3e3f5d' title='Show/Hide data repr'><svg class='icon xr-icon-database'><use xlink:href='#icon-database'></use></svg></label><div class='xr-var-attrs'><dl class='xr-attrs'></dl></div><div class='xr-var-data'><pre>array(&quot;C(time_point, Treatment(&#x27;pre-deworm&#x27;))[T.post-deworm]&quot;,\n",
       "      dtype=&#x27;&lt;U53&#x27;)</pre></div></li></ul></div></li><li class='xr-section-item'><input id='section-96950e9e-ac81-4e1f-b70b-d9abb4a5a929' class='xr-section-summary-in' type='checkbox' disabled ><label for='section-96950e9e-ac81-4e1f-b70b-d9abb4a5a929' class='xr-section-summary'  title='Expand/collapse section'>Attributes: <span>(0)</span></label><div class='xr-section-inline-details'></div><div class='xr-section-details'><dl class='xr-attrs'></dl></div></li></ul></div></div>"
      ],
      "text/plain": [
       "<xarray.DataArray 'beta' (feature: 88)>\n",
       "array([-2.46478577, -1.69512548, -1.37817681, -1.32298247, -1.31094608,\n",
       "       -1.13537057, -1.08588968, -1.07657731, -0.9232941 , -0.86684728,\n",
       "       -0.79534875, -0.73874434, -0.70865246, -0.68615234, -0.6653098 ,\n",
       "       -0.62815381, -0.60408235, -0.5729797 , -0.4313488 , -0.410583  ,\n",
       "       -0.3822664 , -0.37263546, -0.37018474, -0.35202177, -0.32738855,\n",
       "       -0.32433081, -0.31306102, -0.31093225, -0.28566328, -0.23330058,\n",
       "       -0.22337411, -0.22057181, -0.20629276, -0.18788811, -0.1812819 ,\n",
       "       -0.14987975, -0.14408073, -0.12653829, -0.10147093, -0.10050677,\n",
       "       -0.06480637, -0.02737752,  0.03511848,  0.03722411,  0.04489603,\n",
       "        0.05521896,  0.07859627,  0.09192131,  0.12172158,  0.1274048 ,\n",
       "        0.13166914,  0.16242287,  0.18379463,  0.1912052 ,  0.19254754,\n",
       "        0.20541254,  0.2248786 ,  0.2333704 ,  0.2375052 ,  0.23986714,\n",
       "        0.37615193,  0.37840281,  0.41954148,  0.42126116,  0.44297256,\n",
       "        0.4566406 ,  0.4630838 ,  0.4922133 ,  0.52384774,  0.52451548,\n",
       "        0.56378313,  0.57591525,  0.59364377,  0.60526606,  0.65772346,\n",
       "        0.78755576,  0.79303635,  0.8181217 ,  0.91505608,  0.92326136,\n",
       "        0.92436216,  0.94177514,  1.01348833,  1.13276778,  1.19368264,\n",
       "        1.27371843,  1.47478747,  2.22585422])\n",
       "Coordinates:\n",
       "  * feature    (feature) object 'TACGTAGGTCCCGAGCGTTGTCCGGATTTATTGGGCGTAAAGCG...\n",
       "    covariate  <U53 \"C(time_point, Treatment('pre-deworm'))[T.post-deworm]\""
      ]
     },
     "execution_count": 29,
     "metadata": {},
     "output_type": "execute_result"
    }
   ],
   "source": [
    "sorted_deworm_diff_means = deworm_diff_means.sortby(deworm_diff_means)\n",
    "sorted_deworm_diff_means"
   ]
  },
  {
   "cell_type": "code",
   "execution_count": 30,
   "id": "occupied-hospital",
   "metadata": {},
   "outputs": [],
   "source": [
    "n = 8\n",
    "bottom_feats = sorted_deworm_diff_means[:n].coords[\"feature\"].values\n",
    "top_feats = sorted_deworm_diff_means[-n:].coords[\"feature\"].values"
   ]
  },
  {
   "cell_type": "code",
   "execution_count": 31,
   "id": "extended-aging",
   "metadata": {},
   "outputs": [
    {
     "name": "stdout",
     "output_type": "stream",
     "text": [
      "(46, 5)\n"
     ]
    },
    {
     "data": {
      "text/html": [
       "<div>\n",
       "<style scoped>\n",
       "    .dataframe tbody tr th:only-of-type {\n",
       "        vertical-align: middle;\n",
       "    }\n",
       "\n",
       "    .dataframe tbody tr th {\n",
       "        vertical-align: top;\n",
       "    }\n",
       "\n",
       "    .dataframe thead th {\n",
       "        text-align: right;\n",
       "    }\n",
       "</style>\n",
       "<table border=\"1\" class=\"dataframe\">\n",
       "  <thead>\n",
       "    <tr style=\"text-align: right;\">\n",
       "      <th></th>\n",
       "      <th>num</th>\n",
       "      <th>denom</th>\n",
       "      <th>log_ratio</th>\n",
       "      <th>time_point</th>\n",
       "      <th>host_subject_id</th>\n",
       "    </tr>\n",
       "  </thead>\n",
       "  <tbody>\n",
       "    <tr>\n",
       "      <th>11913.102</th>\n",
       "      <td>457.0</td>\n",
       "      <td>131.0</td>\n",
       "      <td>1.249486</td>\n",
       "      <td>pre-deworm</td>\n",
       "      <td>S102</td>\n",
       "    </tr>\n",
       "    <tr>\n",
       "      <th>11913.102AF</th>\n",
       "      <td>1542.0</td>\n",
       "      <td>11.0</td>\n",
       "      <td>4.942940</td>\n",
       "      <td>post-deworm</td>\n",
       "      <td>S102</td>\n",
       "    </tr>\n",
       "    <tr>\n",
       "      <th>11913.1097</th>\n",
       "      <td>38.0</td>\n",
       "      <td>127.0</td>\n",
       "      <td>-1.206601</td>\n",
       "      <td>pre-deworm</td>\n",
       "      <td>S1097</td>\n",
       "    </tr>\n",
       "    <tr>\n",
       "      <th>11913.1097AF</th>\n",
       "      <td>455.0</td>\n",
       "      <td>46.0</td>\n",
       "      <td>2.291656</td>\n",
       "      <td>post-deworm</td>\n",
       "      <td>S1097</td>\n",
       "    </tr>\n",
       "    <tr>\n",
       "      <th>11913.1248</th>\n",
       "      <td>64.0</td>\n",
       "      <td>2971.0</td>\n",
       "      <td>-3.837771</td>\n",
       "      <td>pre-deworm</td>\n",
       "      <td>S1248</td>\n",
       "    </tr>\n",
       "  </tbody>\n",
       "</table>\n",
       "</div>"
      ],
      "text/plain": [
       "                 num   denom  log_ratio   time_point host_subject_id\n",
       "11913.102      457.0   131.0   1.249486   pre-deworm            S102\n",
       "11913.102AF   1542.0    11.0   4.942940  post-deworm            S102\n",
       "11913.1097      38.0   127.0  -1.206601   pre-deworm           S1097\n",
       "11913.1097AF   455.0    46.0   2.291656  post-deworm           S1097\n",
       "11913.1248      64.0  2971.0  -3.837771   pre-deworm           S1248"
      ]
     },
     "execution_count": 31,
     "metadata": {},
     "output_type": "execute_result"
    }
   ],
   "source": [
    "import numpy as np\n",
    "\n",
    "def log_ratio(table, top_feats, bot_feats):\n",
    "    num_df = table.loc[:, top_feats].sum(axis=1).to_frame()\n",
    "    num_df.columns = [\"num\"]\n",
    "    num_df = num_df[num_df[\"num\"] > 0]\n",
    "    denom_df = table.loc[:, bot_feats].sum(axis=1).to_frame()\n",
    "    denom_df.columns = [\"denom\"]\n",
    "    denom_df = denom_df[denom_df[\"denom\"] > 0]\n",
    "    lr_df = num_df.join(denom_df, how=\"inner\")\n",
    "    lr_df[\"log_ratio\"] = np.log(lr_df[\"num\"]/lr_df[\"denom\"])\n",
    "    return lr_df\n",
    "\n",
    "lr_df = log_ratio(filt_tbl_df.T, top_feats, bottom_feats).join(metadata_model, how=\"inner\")\n",
    "print(lr_df.shape)\n",
    "lr_df.head()"
   ]
  },
  {
   "cell_type": "code",
   "execution_count": 32,
   "id": "rental-italic",
   "metadata": {},
   "outputs": [
    {
     "data": {
      "text/plain": [
       "host_subject_id\n",
       "S102     3.693454\n",
       "S1097    3.498257\n",
       "S1248    4.070393\n",
       "S1259    0.393011\n",
       "S1383    5.431858\n",
       "dtype: float64"
      ]
     },
     "execution_count": 32,
     "metadata": {},
     "output_type": "execute_result"
    }
   ],
   "source": [
    "func = lambda x: (\n",
    "    x.query(\"time_point == 'post-deworm'\")[\"log_ratio\"][0] \n",
    "    - x.query(\"time_point == 'pre-deworm'\")[\"log_ratio\"][0]\n",
    ")\n",
    "\n",
    "lr_diffs = (\n",
    "    lr_df\n",
    "    .groupby(\"host_subject_id\")\n",
    "    .apply(func)\n",
    ")\n",
    "lr_diffs.head()"
   ]
  },
  {
   "cell_type": "markdown",
   "id": "composed-inspector",
   "metadata": {},
   "source": [
    "Finally, we'll plot the log-ratio changes from pre-deworm to post-deworm and include `life_stage` as a factor in our visualization."
   ]
  },
  {
   "cell_type": "code",
   "execution_count": 33,
   "id": "classical-arabic",
   "metadata": {},
   "outputs": [
    {
     "data": {
      "image/png": "[encoded data removed]",
      "text/plain": [
       "<Figure size 576x576 with 1 Axes>"
      ]
     },
     "metadata": {},
     "output_type": "display_data"
    }
   ],
   "source": [
    "from matplotlib.lines import Line2D\n",
    "import matplotlib.pyplot as plt\n",
    "import seaborn as sns\n",
    "\n",
    "fig, ax = plt.subplots(figsize=(8, 8), facecolor=\"white\")\n",
    "\n",
    "for subj_id, subj_df in lr_df.groupby(\"host_subject_id\"):\n",
    "    _d = lr_diffs[subj_id]\n",
    "    \n",
    "    args = {\n",
    "        \"data\": subj_df,\n",
    "        \"x\": \"time_point\",\n",
    "        \"y\": \"log_ratio\",\n",
    "        \"color\": \"black\" if _d > 0 else \"red\"\n",
    "    }\n",
    "    sns.pointplot(**args, ax=ax)\n",
    "\n",
    "ax.set_xlim([-0.4, 1.4])\n",
    "\n",
    "pre_deworm_lrs = lr_df.query(\"time_point == 'pre-deworm'\")[\"log_ratio\"].values\n",
    "post_deworm_lrs = lr_df.query(\"time_point == 'post-deworm'\")[\"log_ratio\"].values\n",
    "\n",
    "bplot = ax.boxplot(\n",
    "    [pre_deworm_lrs, post_deworm_lrs],\n",
    "    positions=[-0.2, 1.2],\n",
    "    patch_artist=True\n",
    ")\n",
    "\n",
    "for patch in bplot[\"boxes\"]:\n",
    "    patch.set_facecolor(\"lightgray\")\n",
    "for med in bplot[\"medians\"]:\n",
    "    med.set_color(\"black\")\n",
    "\n",
    "    \n",
    "ax.set_xticks([0, 1])\n",
    "ax.set_xticklabels([\"Pre-Deworm\", \"Post-Deworm\"], fontsize=16)\n",
    "ax.tick_params(\"y\", labelsize=14)\n",
    "ax.set_xlabel(\"\")\n",
    "ax.set_ylabel(\"Log-Ratio\", fontsize=16)\n",
    "\n",
    "plt.show()"
   ]
  },
  {
   "cell_type": "code",
   "execution_count": 34,
   "id": "amino-certificate",
   "metadata": {},
   "outputs": [
    {
     "data": {
      "text/plain": [
       "WilcoxonResult(statistic=13.0, pvalue=2.09808349609375e-05)"
      ]
     },
     "execution_count": 34,
     "metadata": {},
     "output_type": "execute_result"
    }
   ],
   "source": [
    "import scipy.stats as ss\n",
    "\n",
    "ss.wilcoxon(lr_diffs)"
   ]
  },
  {
   "cell_type": "markdown",
   "id": "crazy-opposition",
   "metadata": {},
   "source": [
    "We see that, indeed, this auto-selected log-ratio separates post-deworm from pre-deworm paired samples."
   ]
  },
  {
   "cell_type": "markdown",
   "id": "further-designer",
   "metadata": {},
   "source": [
    "That's it for this notebook. There's a lot of possibilities with BIRDMAn depending on your specific experimental design and questions.\n",
    "\n",
    "For instance, here we decided that each subject should have an individual random intercept, but what if we wanted to see how each microbe changes with each subject? We could augment the model by changing the `subj_int` parameters to `matrix[S, D-1]`. Note that in this case we could have to tweak the arguments to `nb_lme.to_inference_object` to specify the new dimensions and that this parameter is in ALR coordinates.\n",
    "\n",
    "This updated model specification is included in BIRDMAn by default under the name `NegativeBinomialLME`."
   ]
  },
  {
   "cell_type": "code",
   "execution_count": null,
   "id": "lesbian-relative",
   "metadata": {},
   "outputs": [],
   "source": []
  }
 ],
 "metadata": {
  "kernelspec": {
   "display_name": "Python 3",
   "language": "python",
   "name": "python3"
  },
  "language_info": {
   "codemirror_mode": {
    "name": "ipython",
    "version": 3
   },
   "file_extension": ".py",
   "mimetype": "text/x-python",
   "name": "python",
   "nbconvert_exporter": "python",
   "pygments_lexer": "ipython3",
   "version": "3.7.9"
  }
 },
 "nbformat": 4,
 "nbformat_minor": 5
}
