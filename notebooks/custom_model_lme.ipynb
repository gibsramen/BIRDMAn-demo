{
 "cells": [
  {
   "cell_type": "markdown",
   "id": "atomic-signature",
   "metadata": {},
   "source": [
    "# Custom Modelling with BIRDMAn - Longitudinal LME\n",
    "\n",
    "One of the primary goals of BIRDMAn is to allow users to develop and implement their own statistical models based on their experimental design/question. For example, if you have paired or longitudinal data, you would likely want to specify random intercepts for individual subjects.\n",
    "\n",
    "Here, we will do a fairly in-depth walkthrough of how you can use BIRDMAn to analyze longitudinal data. Note that for this workshop we will be using a custom Stan file, but in the future this file will be included as a default option."
   ]
  },
  {
   "cell_type": "markdown",
   "id": "inclusive-addition",
   "metadata": {},
   "source": [
    "## Data\n",
    "\n",
    "We will be using data from the study \"Linking the effects of helminth infection, diet and the gut microbiota with human whole-blood signatures (repeated measurements)\" (Qiita ID: 11913). This study looks at the effect of de-worming on the gut microbiome. Importantly, they collected pre and post-deworming stool samples on several individuals.\n",
    "\n",
    "For our purposes, we would like to consider a linear mixed effects model (LME) where de-worming timepoint is a fixed effect and subject ID is a random effect. We will first process and explore the raw data."
   ]
  },
  {
   "cell_type": "code",
   "execution_count": null,
   "id": "cleared-grounds",
   "metadata": {},
   "outputs": [],
   "source": [
    "%matplotlib inline\n",
    "\n",
    "import biom\n",
    "import numpy as np\n",
    "import pandas as pd\n",
    "import birdman"
   ]
  },
  {
   "cell_type": "code",
   "execution_count": null,
   "id": "optical-reservoir",
   "metadata": {},
   "outputs": [],
   "source": [
    "raw_tbl = biom.load_table(\"../data/helminth/94270_reference-hit.biom\")\n",
    "raw_tbl"
   ]
  },
  {
   "cell_type": "code",
   "execution_count": null,
   "id": "theoretical-fighter",
   "metadata": {},
   "outputs": [],
   "source": [
    "metadata = pd.read_csv(\"../data/helminth/11913_20191016-112545.txt\", sep=\"\\t\", index_col=0)\n",
    "metadata.head()"
   ]
  },
  {
   "cell_type": "markdown",
   "id": "preceding-label",
   "metadata": {},
   "source": [
    "First, we want to determine which subjects have paired samples (taken at `time_point` 1 and 2)."
   ]
  },
  {
   "cell_type": "code",
   "execution_count": null,
   "id": "controlling-estate",
   "metadata": {},
   "outputs": [],
   "source": [
    "metadata[\"host_subject_id\"].unique()"
   ]
  },
  {
   "cell_type": "code",
   "execution_count": null,
   "id": "cooperative-locator",
   "metadata": {},
   "outputs": [],
   "source": [
    "subj_is_paired = metadata.groupby(\"host_subject_id\").apply(lambda x: (x[\"time_point\"].values == [1, 2]).all())\n",
    "paired_subjs = subj_is_paired[subj_is_paired].index\n",
    "paired_subjs"
   ]
  },
  {
   "cell_type": "code",
   "execution_count": null,
   "id": "wired-edgar",
   "metadata": {},
   "outputs": [],
   "source": [
    "paired_samps = metadata[metadata[\"host_subject_id\"].isin(paired_subjs)].index"
   ]
  },
  {
   "cell_type": "markdown",
   "id": "functional-german",
   "metadata": {},
   "source": [
    "## Covariates of Interest\n",
    "\n",
    "We will then explore the metadata to see which columns may be important."
   ]
  },
  {
   "cell_type": "code",
   "execution_count": null,
   "id": "animal-scott",
   "metadata": {},
   "outputs": [],
   "source": [
    "metadata.columns"
   ]
  },
  {
   "cell_type": "markdown",
   "id": "norwegian-toyota",
   "metadata": {},
   "source": [
    "For this example we will consider the following covariates in our model:\n",
    "\n",
    "* `helminth`\n",
    "* `time_point`\n",
    "* `life_stage`\n",
    "* `sex`"
   ]
  },
  {
   "cell_type": "code",
   "execution_count": null,
   "id": "impressive-davis",
   "metadata": {},
   "outputs": [],
   "source": [
    "cols_to_keep = [\"helminth\", \"time_point\", \"life_stage\", \"sex\", \"host_subject_id\"]\n",
    "metadata_model = metadata.loc[paired_samps, cols_to_keep].dropna()"
   ]
  },
  {
   "cell_type": "markdown",
   "id": "dominican-times",
   "metadata": {},
   "source": [
    "Additionally, we are going to change the encoding of `time_point` to be more explicit. We are also going to prefix each subject ID with \"S\" so that they are read as strings instead of integers."
   ]
  },
  {
   "cell_type": "code",
   "execution_count": null,
   "id": "variable-coupon",
   "metadata": {},
   "outputs": [],
   "source": [
    "metadata_model[\"time_point\"] = metadata_model[\"time_point\"].map({1: \"pre-deworm\", 2: \"post-deworm\"})\n",
    "metadata_model[\"host_subject_id\"] = \"S\" + metadata[\"host_subject_id\"].astype(str)"
   ]
  },
  {
   "cell_type": "code",
   "execution_count": null,
   "id": "three-improvement",
   "metadata": {},
   "outputs": [],
   "source": [
    "metadata_model.head()"
   ]
  },
  {
   "cell_type": "markdown",
   "id": "civilian-lightweight",
   "metadata": {},
   "source": [
    "## Filtering the feature table\n",
    "\n",
    "We want to filter the original BIOM table to include only the samples we've specified. We are also going to reduce the number of microbes in the table to a more manageable number for this demonstration."
   ]
  },
  {
   "cell_type": "code",
   "execution_count": null,
   "id": "stupid-breath",
   "metadata": {},
   "outputs": [],
   "source": [
    "raw_tbl_df = raw_tbl.to_dataframe()\n",
    "raw_tbl_df.iloc[:5, :5]"
   ]
  },
  {
   "cell_type": "markdown",
   "id": "greatest-artwork",
   "metadata": {},
   "source": [
    "To filter out features, we calculate the prevalence of each feature and keep only features that appear in at least 20 samples out of 46."
   ]
  },
  {
   "cell_type": "code",
   "execution_count": null,
   "id": "prescription-staff",
   "metadata": {},
   "outputs": [],
   "source": [
    "filt_tbl_df = raw_tbl_df.loc[:, metadata_model.index]\n",
    "prev = filt_tbl_df.clip(upper=1).sum(axis=1)\n",
    "filt_tbl_df = filt_tbl_df.loc[prev[prev >= 20].index, :]\n",
    "filt_tbl_df.shape"
   ]
  },
  {
   "cell_type": "markdown",
   "id": "sunset-merit",
   "metadata": {},
   "source": [
    "Now we save this DataFrame as a BIOM so we can pass it into BIRDMAn."
   ]
  },
  {
   "cell_type": "code",
   "execution_count": null,
   "id": "starting-graph",
   "metadata": {},
   "outputs": [],
   "source": [
    "filt_tbl = biom.table.Table(\n",
    "    filt_tbl_df.values,\n",
    "    sample_ids=filt_tbl_df.columns,\n",
    "    observation_ids=filt_tbl_df.index\n",
    ")\n",
    "filt_tbl"
   ]
  },
  {
   "cell_type": "markdown",
   "id": "cathedral-bookmark",
   "metadata": {},
   "source": [
    "## LME Model\n",
    "\n",
    "We have provided a Stan file with the code required to run this model. First, we'll print the contents to the screen."
   ]
  },
  {
   "cell_type": "code",
   "execution_count": null,
   "id": "promotional-masters",
   "metadata": {},
   "outputs": [],
   "source": [
    "with open(\"../models/negative_binomial_lme.stan\", \"r\") as f:\n",
    "    print(f.read())"
   ]
  },
  {
   "cell_type": "markdown",
   "id": "eastern-signature",
   "metadata": {},
   "source": [
    "### Description of the model\n",
    "\n",
    "The basic Negative Binomial model is as follows:\n",
    "\n",
    "$$ y_{ij} \\sim \\mathrm{NB}(\\mu_{ij},\\phi_j) $$\n",
    "\n",
    "$$ \\mu_{ij} = n_i \\cdot p_{ij} $$\n",
    "\n",
    "where $i$ is an arbitrary sample, $j$ is an arbitrary microbe, $n$ is the sampling depth, and $\\phi$ is the dispersion parameter. We see that $\\mu_{ij}$, the mean abundance of microbe $j$ in sample $i$, is the total sampling depth ($n_i$) multiplied by the probability of microbe $j$ in sample $i$.\n",
    "\n",
    "For the default NB model, the probability for each microbe in a given sample is a function of only the fixed-effects. $x_i$ is the covariate matrix of sample $i$ and $\\beta$ is the covariate coefficient vector (e.g. $[\\beta_{\\rm{intercept}}, \\beta_{\\rm{time}}, ...]^T$).\n",
    "\n",
    "$$ \\mathrm{alr}^{-1} (p_i) = x_i\\beta $$\n",
    "\n",
    "To include a random effect, we add a random intercept for each subject ID.\n",
    "\n",
    "$$ \\mathrm{alr}^{-1} (p_i) = x_i\\beta + z_i u $$\n",
    "\n",
    "where $z_i$ is the mapping of sample $i$ to subject and $u$ is the subject coefficient vector (e.g. $[u_{\\textrm{S1}}, u_{\\textrm{S2}}, ...]$)"
   ]
  },
  {
   "cell_type": "code",
   "execution_count": null,
   "id": "hispanic-governor",
   "metadata": {},
   "outputs": [],
   "source": [
    "nb_lme = birdman.Model(  # note that we are instantiating a base Model object\n",
    "    table=filt_tbl,\n",
    "    formula=\"C(time_point, Treatment('pre-deworm'))\",\n",
    "    metadata=metadata_model,\n",
    "    model_path=\"../models/negative_binomial_lme.stan\",\n",
    "    num_iter=100,\n",
    "    chains=4,\n",
    "    seed=42\n",
    ")"
   ]
  },
  {
   "cell_type": "markdown",
   "id": "moved-fossil",
   "metadata": {},
   "source": [
    "We then want to update our data dictionary with the new parameters.\n",
    "\n",
    "By default BIRDMAn computes and includes:\n",
    "\n",
    "* `y`: table data\n",
    "* `x`: covariate design matrix\n",
    "* `depth`: log sampling depths of samples\n",
    "* `N`: number of samples\n",
    "* `D`: number of features\n",
    "* `p`: number of covariates (including Intercept)"
   ]
  },
  {
   "cell_type": "markdown",
   "id": "filled-signature",
   "metadata": {},
   "source": [
    "We want to add the necessary variables to be passed to Stan:\n",
    "\n",
    "* `S`: total number of groups (subjects)\n",
    "* `B_p`: mapping of samples to subject\n",
    "* `phi_s`: stdev prior for normally distributed covariate-feature coefficients\n",
    "* `u_p`: scale prior for half-Cauchy distributed overdispersion coefficients\n",
    "* `subj_ids`: stdev prior for normally distributed subject intercept shifts"
   ]
  },
  {
   "cell_type": "markdown",
   "id": "dynamic-seeker",
   "metadata": {},
   "source": [
    "We want to provide `subj_ids` with a mapping of which sample corresponds to which subject. Stan does not understand strings so we encode each unique subject as an integer (starting at 1 because Stan 1-indexes arrays)."
   ]
  },
  {
   "cell_type": "code",
   "execution_count": null,
   "id": "detailed-bride",
   "metadata": {},
   "outputs": [],
   "source": [
    "group_var_series = metadata_model[\"host_subject_id\"]\n",
    "samp_subj_map = group_var_series.astype(\"category\").cat.codes + 1\n",
    "\n",
    "samp_subj_map.head(10)"
   ]
  },
  {
   "cell_type": "code",
   "execution_count": null,
   "id": "sticky-label",
   "metadata": {},
   "outputs": [],
   "source": [
    "groups = np.sort(group_var_series.unique())\n",
    "groups"
   ]
  },
  {
   "cell_type": "code",
   "execution_count": null,
   "id": "faced-freeware",
   "metadata": {},
   "outputs": [],
   "source": [
    "param_dict = {\n",
    "    \"S\": len(groups),\n",
    "    \"subj_ids\": samp_subj_map.values,\n",
    "    \"B_p\": 3.0,\n",
    "    \"phi_s\": 3.0,\n",
    "    \"u_p\": 1.0\n",
    "}\n",
    "\n",
    "nb_lme.add_parameters(param_dict)"
   ]
  },
  {
   "cell_type": "code",
   "execution_count": null,
   "id": "herbal-employee",
   "metadata": {},
   "outputs": [],
   "source": [
    "nb_lme.dat"
   ]
  },
  {
   "cell_type": "code",
   "execution_count": null,
   "id": "royal-tsunami",
   "metadata": {},
   "outputs": [],
   "source": [
    "nb_lme.compile_model()"
   ]
  },
  {
   "cell_type": "code",
   "execution_count": null,
   "id": "incoming-blend",
   "metadata": {},
   "outputs": [],
   "source": [
    "%%time\n",
    "\n",
    "nb_lme.fit_model()"
   ]
  },
  {
   "cell_type": "code",
   "execution_count": null,
   "id": "false-viewer",
   "metadata": {},
   "outputs": [],
   "source": [
    "nb_lme.diagnose();"
   ]
  },
  {
   "cell_type": "code",
   "execution_count": null,
   "id": "strategic-castle",
   "metadata": {},
   "outputs": [],
   "source": [
    "inference = nb_lme.to_inference_object(\n",
    "    params=[\"beta\", \"phi\", \"subj_int\"],\n",
    "    coords={\n",
    "        \"feature\": nb_lme.feature_names,\n",
    "        \"covariate\": nb_lme.colnames,\n",
    "        \"subject\": groups\n",
    "    },\n",
    "    dims={\n",
    "        \"beta\": [\"covariate\", \"feature\"],\n",
    "        \"phi\": [\"feature\"],\n",
    "        \"subj_int\": [\"subject\"]\n",
    "    },\n",
    "    alr_params=[\"beta\"],\n",
    "    posterior_predictive=\"y_predict\",\n",
    "    log_likelihood=\"log_lik\",\n",
    "    include_observed_data=True\n",
    ")"
   ]
  },
  {
   "cell_type": "code",
   "execution_count": null,
   "id": "graphic-giant",
   "metadata": {},
   "outputs": [],
   "source": [
    "import birdman.diagnostics as diag\n",
    "\n",
    "diag.loo(inference, pointwise=True)"
   ]
  },
  {
   "cell_type": "code",
   "execution_count": null,
   "id": "suffering-captain",
   "metadata": {},
   "outputs": [],
   "source": [
    "inference.posterior[\"subj_int\"].dims"
   ]
  },
  {
   "cell_type": "code",
   "execution_count": null,
   "id": "exciting-asset",
   "metadata": {},
   "outputs": [],
   "source": [
    "inference.posterior.coords[\"covariate\"].values"
   ]
  },
  {
   "cell_type": "code",
   "execution_count": null,
   "id": "atmospheric-prize",
   "metadata": {},
   "outputs": [],
   "source": [
    "from birdman.visualization import plot_posterior_predictive_checks\n",
    "\n",
    "ax = plot_posterior_predictive_checks(inference)"
   ]
  },
  {
   "cell_type": "markdown",
   "id": "waiting-nursing",
   "metadata": {},
   "source": [
    "For this notebook we'll look at differential taxa by post-deworm status."
   ]
  },
  {
   "cell_type": "code",
   "execution_count": null,
   "id": "accomplished-effects",
   "metadata": {},
   "outputs": [],
   "source": [
    "deworm_diff = inference.posterior[\"beta\"].sel(\n",
    "    {\"covariate\": \"C(time_point, Treatment('pre-deworm'))[T.post-deworm]\"}\n",
    ")\n",
    "deworm_diff = deworm_diff.stack(mcmc_sample=(\"chain\", \"draw\"))\n",
    "deworm_diff_means = deworm_diff.mean(dim=\"mcmc_sample\")\n",
    "deworm_diff_stds = deworm_diff.std(dim=\"mcmc_sample\")"
   ]
  },
  {
   "cell_type": "code",
   "execution_count": null,
   "id": "responsible-bosnia",
   "metadata": {},
   "outputs": [],
   "source": [
    "sorted_deworm_diff_means = deworm_diff_means.sortby(deworm_diff_means)\n",
    "sorted_deworm_diff_means"
   ]
  },
  {
   "cell_type": "code",
   "execution_count": null,
   "id": "occupied-hospital",
   "metadata": {},
   "outputs": [],
   "source": [
    "bottom_10 = sorted_deworm_diff_means[:10].coords[\"feature\"].values\n",
    "top_10 = sorted_deworm_diff_means[-10:].coords[\"feature\"].values"
   ]
  },
  {
   "cell_type": "code",
   "execution_count": null,
   "id": "extended-aging",
   "metadata": {},
   "outputs": [],
   "source": [
    "import numpy as np\n",
    "\n",
    "def log_ratio(table, top_feats, bot_feats):\n",
    "    num_df = table.loc[:, top_feats].sum(axis=1).to_frame()# + 1\n",
    "    num_df.columns = [\"num\"]\n",
    "    num_df = num_df[num_df[\"num\"] > 0]\n",
    "    denom_df = table.loc[:, bot_feats].sum(axis=1).to_frame()# + 1\n",
    "    denom_df.columns = [\"denom\"]\n",
    "    denom_df = denom_df[denom_df[\"denom\"] > 0]\n",
    "    lr_df = num_df.join(denom_df, how=\"inner\")\n",
    "    lr_df[\"log_ratio\"] = np.log(lr_df[\"num\"]/lr_df[\"denom\"])\n",
    "    return lr_df\n",
    "\n",
    "lr_df = log_ratio(filt_tbl_df.T, top_10, bottom_10).join(metadata_model, how=\"inner\")\n",
    "print(lr_df.shape)\n",
    "lr_df.head()"
   ]
  },
  {
   "cell_type": "markdown",
   "id": "composed-inspector",
   "metadata": {},
   "source": [
    "Finally, we'll plot the log-ratio changes from pre-deworm to post-deworm and include `life_stage` as a factor in our visualization."
   ]
  },
  {
   "cell_type": "code",
   "execution_count": null,
   "id": "classical-arabic",
   "metadata": {},
   "outputs": [],
   "source": [
    "from matplotlib.gridspec import GridSpec\n",
    "from matplotlib.lines import Line2D\n",
    "import matplotlib.pyplot as plt\n",
    "import seaborn as sns\n",
    "\n",
    "fig = plt.figure(figsize=(10, 8), facecolor=\"white\")\n",
    "gs = GridSpec(ncols=2, nrows=2, figure=fig)\n",
    "ax1 = fig.add_subplot(gs[:, 0])\n",
    "ax3 = fig.add_subplot(gs[1, 1])\n",
    "ax2 = fig.add_subplot(gs[0, 1], sharex=ax3)\n",
    "ax2.xaxis.set_visible(False)\n",
    "\n",
    "for subj_id, subj_df in lr_df.groupby(\"host_subject_id\"):\n",
    "    _d = (\n",
    "        subj_df.query(\"time_point == 'post-deworm'\")[\"log_ratio\"][0]\n",
    "        - subj_df.query(\"time_point == 'pre-deworm'\")[\"log_ratio\"][0]\n",
    "    )\n",
    "    \n",
    "    args = {\n",
    "        \"data\": subj_df,\n",
    "        \"x\": \"time_point\",\n",
    "        \"y\": \"log_ratio\",\n",
    "        \"color\": \"black\" if _d > 0 else \"red\"\n",
    "    }\n",
    "    sns.pointplot(**args, ax=ax1)\n",
    "    sns.pointplot(**args, ax=ax2 if subj_df[\"life_stage\"][0] == \"juvenile\" else ax3)\n",
    "\n",
    "pre_deworm_lrs = lr_df.query(\"time_point == 'pre-deworm'\")[\"log_ratio\"].values\n",
    "post_deworm_lrs = lr_df.query(\"time_point == 'post-deworm'\")[\"log_ratio\"].values\n",
    "\n",
    "bplot1 = ax1.boxplot(\n",
    "    [pre_deworm_lrs, post_deworm_lrs],\n",
    "    positions=[-0.3, 1.3],\n",
    "    patch_artist=True\n",
    ")\n",
    "\n",
    "bplot_dict = {\"both\": bplot1}\n",
    "for life_stage, ax in zip([\"juvenile\", \"adult\"], [ax2, ax3]):\n",
    "    _1 = lr_df.query(f\"time_point == 'pre-deworm' & life_stage == '{life_stage}'\")[\"log_ratio\"].values\n",
    "    _2 = lr_df.query(f\"time_point == 'post-deworm' & life_stage == '{life_stage}'\")[\"log_ratio\"].values\n",
    "    bplot = ax.boxplot([_1, _2], positions=[-0.3, 1.3], patch_artist=True)\n",
    "    bplot_dict[life_stage] = bplot\n",
    "\n",
    "for bplot in bplot_dict.values():\n",
    "    for patch in bplot[\"boxes\"]:\n",
    "        patch.set_facecolor(\"lightgray\")\n",
    "        patch.set_linewidth(2)\n",
    "    for med in bplot[\"medians\"]:\n",
    "        med.set_color(\"black\")\n",
    "    for flier in bplot[\"fliers\"]:\n",
    "        flier.set_markerfacecolor(\"lightgray\")\n",
    "        flier.set_linewidth(2)\n",
    "    for cap in bplot[\"caps\"]:\n",
    "        cap.set_linewidth(2)\n",
    "    for whisk in bplot[\"whiskers\"]:\n",
    "        whisk.set_linewidth(2)\n",
    "\n",
    "\n",
    "for ax in [ax1, ax2, ax3]:\n",
    "    ax.set_xticks([0, 1])\n",
    "    ax.set_xlim([-0.5, 1.5])\n",
    "    ax.set_xlabel(\"\")\n",
    "    ax.set_xticklabels([\"Pre\\nDeworm\", \"Post\\nDeworm\"], fontsize=16)\n",
    "    ax.tick_params(\"y\", labelsize=14)\n",
    "    ax.set_ylim(ax1.get_ylim())\n",
    "    ax.grid(axis=\"y\")\n",
    "    ax.set_axisbelow(True)\n",
    "    \n",
    "ax1.set_ylabel(\"Log-Ratio\", fontsize=16)\n",
    "ax1.set_title(\"All Subjects\", fontsize=20)\n",
    "ax2.set_title(\"Juvenile\", fontsize=20)\n",
    "ax3.set_title(\"Adult\", fontsize=20)\n",
    "for _ in [ax2, ax3]: _.set_ylabel(\"\")\n",
    "    \n",
    "decrease_lr = Line2D([0], [0], color=\"red\", lw=4)\n",
    "increase_lr = Line2D([0], [0], color=\"black\", lw=4)\n",
    "\n",
    "ax1.legend(\n",
    "    handles=[decrease_lr, increase_lr],\n",
    "    labels=[\"Decreased\", \"Increased\"],\n",
    "    ncol=1,\n",
    "    loc=\"lower right\",\n",
    "    fontsize=14\n",
    ")\n",
    "\n",
    "plt.show()"
   ]
  },
  {
   "cell_type": "code",
   "execution_count": null,
   "id": "excessive-community",
   "metadata": {},
   "outputs": [],
   "source": []
  }
 ],
 "metadata": {
  "kernelspec": {
   "display_name": "Python 3",
   "language": "python",
   "name": "python3"
  },
  "language_info": {
   "codemirror_mode": {
    "name": "ipython",
    "version": 3
   },
   "file_extension": ".py",
   "mimetype": "text/x-python",
   "name": "python",
   "nbconvert_exporter": "python",
   "pygments_lexer": "ipython3",
   "version": "3.7.9"
  }
 },
 "nbformat": 4,
 "nbformat_minor": 5
}
